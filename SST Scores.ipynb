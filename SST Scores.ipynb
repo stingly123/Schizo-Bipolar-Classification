{
 "cells": [
  {
   "cell_type": "markdown",
   "metadata": {},
   "source": [
    "# Participants"
   ]
  },
  {
   "cell_type": "code",
   "execution_count": 71,
   "metadata": {},
   "outputs": [
    {
     "data": {
      "text/plain": [
       "47"
      ]
     },
     "execution_count": 71,
     "metadata": {},
     "output_type": "execute_result"
    }
   ],
   "source": [
    "import pandas as pd\n",
    "\n",
    "p = pd.read_csv('/Users/sarahting/desktop/TDI Project/UCLA Consortium/participants.tsv', sep='\\t')\n",
    "\n",
    "#Schizo Patients Data\n",
    "schiz_patients = p[(p['diagnosis']=='SCHZ') & (p['bart']==1.0) & (p['scap']==1.0) & (p['stopsignal']==1.0) & (p['taskswitch']==1.0) & p['bht']==1.0]\n",
    "list_of_schizpatient_id = list(schiz_patients['participant_id'])\n",
    "list_of_schizpatient_id\n",
    "\n",
    "#Bipolar Patients Data\n",
    "bip_patients = p[(p['diagnosis']=='BIPOLAR') & (p['bart']==1.0) & (p['scap']==1.0) & (p['stopsignal']==1.0) & (p['taskswitch']==1.0) & p['bht']==1.0]\n",
    "list_of_bippatient_id = list(bip_patients['participant_id'])\n",
    "len(list_of_bippatient_id)\n",
    "\n",
    "\n",
    "#list_of_schizpatient_id"
   ]
  },
  {
   "cell_type": "markdown",
   "metadata": {},
   "source": [
    "# Stop Signal Task"
   ]
  },
  {
   "cell_type": "markdown",
   "metadata": {},
   "source": [
    "Measurements that I can get from this:\n",
    "1. proportion of successful stops (inhibition)\n",
    "2. direction error (pressing left when the arrow is point right)\n",
    "3. median correct reaction time on Go trials\n",
    "4. stop signal reaction time (SSSRT)\n",
    "5. stop signal delay?? Seems to be set by the experimenter\n",
    "\n",
    "Lappin and Eriksen (1966) used a visual stop-signal task and found that\n",
    "participant slowed their RT to the go stimulus in order to keep response rate\n",
    "constant across the stop-signal delays. "
   ]
  },
  {
   "cell_type": "markdown",
   "metadata": {},
   "source": [
    "# Initial Exploration"
   ]
  },
  {
   "cell_type": "markdown",
   "metadata": {},
   "source": [
    "## Exploring proportion of succesful stops"
   ]
  },
  {
   "cell_type": "markdown",
   "metadata": {},
   "source": [
    "### Control Sample"
   ]
  },
  {
   "cell_type": "code",
   "execution_count": 8,
   "metadata": {},
   "outputs": [
    {
     "data": {
      "text/html": [
       "<div>\n",
       "<style scoped>\n",
       "    .dataframe tbody tr th:only-of-type {\n",
       "        vertical-align: middle;\n",
       "    }\n",
       "\n",
       "    .dataframe tbody tr th {\n",
       "        vertical-align: top;\n",
       "    }\n",
       "\n",
       "    .dataframe thead th {\n",
       "        text-align: right;\n",
       "    }\n",
       "</style>\n",
       "<table border=\"1\" class=\"dataframe\">\n",
       "  <thead>\n",
       "    <tr style=\"text-align: right;\">\n",
       "      <th></th>\n",
       "      <th>onset</th>\n",
       "      <th>duration</th>\n",
       "      <th>trial_type</th>\n",
       "      <th>PresentedStimulusArrowDirection</th>\n",
       "      <th>ReactionTime</th>\n",
       "      <th>SubjectResponseButton</th>\n",
       "      <th>SubjectResponseButtonCode</th>\n",
       "      <th>SubjectResponseCorrectness</th>\n",
       "      <th>TrialOutcome</th>\n",
       "      <th>StopSignalDelay</th>\n",
       "      <th>LadderNumber</th>\n",
       "      <th>LadderTime</th>\n",
       "      <th>LadderMovement</th>\n",
       "      <th>TimeCourse</th>\n",
       "      <th>onset_noTriggerAdjust</th>\n",
       "      <th>TimeCourse_noTriggerAdjust</th>\n",
       "    </tr>\n",
       "  </thead>\n",
       "  <tbody>\n",
       "    <tr>\n",
       "      <td>0</td>\n",
       "      <td>2.008960</td>\n",
       "      <td>1.500</td>\n",
       "      <td>GO</td>\n",
       "      <td>LEFT</td>\n",
       "      <td>0.510127</td>\n",
       "      <td>LEFT</td>\n",
       "      <td>5</td>\n",
       "      <td>CorrectResponse</td>\n",
       "      <td>SuccessfulGo</td>\n",
       "      <td>0.0</td>\n",
       "      <td>0</td>\n",
       "      <td>0</td>\n",
       "      <td>0</td>\n",
       "      <td>2.000</td>\n",
       "      <td>0.008960</td>\n",
       "      <td>0.000</td>\n",
       "    </tr>\n",
       "    <tr>\n",
       "      <td>1</td>\n",
       "      <td>2.000000</td>\n",
       "      <td>2.875</td>\n",
       "      <td>NaN</td>\n",
       "      <td>BLANKSCREEN</td>\n",
       "      <td>0.000000</td>\n",
       "      <td>NaN</td>\n",
       "      <td>0</td>\n",
       "      <td>NaN</td>\n",
       "      <td>NaN</td>\n",
       "      <td>0.0</td>\n",
       "      <td>0</td>\n",
       "      <td>0</td>\n",
       "      <td>0</td>\n",
       "      <td>3.500</td>\n",
       "      <td>0.000000</td>\n",
       "      <td>1.500</td>\n",
       "    </tr>\n",
       "    <tr>\n",
       "      <td>2</td>\n",
       "      <td>6.377515</td>\n",
       "      <td>1.500</td>\n",
       "      <td>GO</td>\n",
       "      <td>LEFT</td>\n",
       "      <td>0.529451</td>\n",
       "      <td>LEFT</td>\n",
       "      <td>5</td>\n",
       "      <td>CorrectResponse</td>\n",
       "      <td>SuccessfulGo</td>\n",
       "      <td>0.0</td>\n",
       "      <td>0</td>\n",
       "      <td>0</td>\n",
       "      <td>0</td>\n",
       "      <td>6.375</td>\n",
       "      <td>4.377515</td>\n",
       "      <td>4.375</td>\n",
       "    </tr>\n",
       "    <tr>\n",
       "      <td>3</td>\n",
       "      <td>2.000000</td>\n",
       "      <td>2.000</td>\n",
       "      <td>NaN</td>\n",
       "      <td>BLANKSCREEN</td>\n",
       "      <td>0.000000</td>\n",
       "      <td>NaN</td>\n",
       "      <td>0</td>\n",
       "      <td>NaN</td>\n",
       "      <td>NaN</td>\n",
       "      <td>0.0</td>\n",
       "      <td>0</td>\n",
       "      <td>0</td>\n",
       "      <td>0</td>\n",
       "      <td>7.875</td>\n",
       "      <td>0.000000</td>\n",
       "      <td>5.875</td>\n",
       "    </tr>\n",
       "    <tr>\n",
       "      <td>4</td>\n",
       "      <td>9.885531</td>\n",
       "      <td>1.500</td>\n",
       "      <td>GO</td>\n",
       "      <td>RIGHT</td>\n",
       "      <td>0.333150</td>\n",
       "      <td>RIGHT</td>\n",
       "      <td>28</td>\n",
       "      <td>CorrectResponse</td>\n",
       "      <td>SuccessfulGo</td>\n",
       "      <td>0.0</td>\n",
       "      <td>0</td>\n",
       "      <td>0</td>\n",
       "      <td>0</td>\n",
       "      <td>9.875</td>\n",
       "      <td>7.885531</td>\n",
       "      <td>7.875</td>\n",
       "    </tr>\n",
       "  </tbody>\n",
       "</table>\n",
       "</div>"
      ],
      "text/plain": [
       "      onset  duration trial_type PresentedStimulusArrowDirection  \\\n",
       "0  2.008960     1.500         GO                            LEFT   \n",
       "1  2.000000     2.875        NaN                     BLANKSCREEN   \n",
       "2  6.377515     1.500         GO                            LEFT   \n",
       "3  2.000000     2.000        NaN                     BLANKSCREEN   \n",
       "4  9.885531     1.500         GO                           RIGHT   \n",
       "\n",
       "   ReactionTime SubjectResponseButton  SubjectResponseButtonCode  \\\n",
       "0      0.510127                  LEFT                          5   \n",
       "1      0.000000                   NaN                          0   \n",
       "2      0.529451                  LEFT                          5   \n",
       "3      0.000000                   NaN                          0   \n",
       "4      0.333150                 RIGHT                         28   \n",
       "\n",
       "  SubjectResponseCorrectness  TrialOutcome  StopSignalDelay  LadderNumber  \\\n",
       "0            CorrectResponse  SuccessfulGo              0.0             0   \n",
       "1                        NaN           NaN              0.0             0   \n",
       "2            CorrectResponse  SuccessfulGo              0.0             0   \n",
       "3                        NaN           NaN              0.0             0   \n",
       "4            CorrectResponse  SuccessfulGo              0.0             0   \n",
       "\n",
       "   LadderTime  LadderMovement  TimeCourse  onset_noTriggerAdjust  \\\n",
       "0           0               0       2.000               0.008960   \n",
       "1           0               0       3.500               0.000000   \n",
       "2           0               0       6.375               4.377515   \n",
       "3           0               0       7.875               0.000000   \n",
       "4           0               0       9.875               7.885531   \n",
       "\n",
       "   TimeCourse_noTriggerAdjust  \n",
       "0                       0.000  \n",
       "1                       1.500  \n",
       "2                       4.375  \n",
       "3                       5.875  \n",
       "4                       7.875  "
      ]
     },
     "execution_count": 8,
     "metadata": {},
     "output_type": "execute_result"
    }
   ],
   "source": [
    "sst = pd.read_csv('/Users/sarahting/desktop/sub-10171_func_sub-10171_task-stopsignal_events.tsv',sep='\\t')\n",
    "sst.head()"
   ]
  },
  {
   "cell_type": "code",
   "execution_count": 16,
   "metadata": {},
   "outputs": [
    {
     "data": {
      "text/html": [
       "<div>\n",
       "<style scoped>\n",
       "    .dataframe tbody tr th:only-of-type {\n",
       "        vertical-align: middle;\n",
       "    }\n",
       "\n",
       "    .dataframe tbody tr th {\n",
       "        vertical-align: top;\n",
       "    }\n",
       "\n",
       "    .dataframe thead th {\n",
       "        text-align: right;\n",
       "    }\n",
       "</style>\n",
       "<table border=\"1\" class=\"dataframe\">\n",
       "  <thead>\n",
       "    <tr style=\"text-align: right;\">\n",
       "      <th></th>\n",
       "      <th>onset</th>\n",
       "      <th>duration</th>\n",
       "      <th>trial_type</th>\n",
       "      <th>PresentedStimulusArrowDirection</th>\n",
       "      <th>ReactionTime</th>\n",
       "      <th>SubjectResponseButton</th>\n",
       "      <th>SubjectResponseButtonCode</th>\n",
       "      <th>SubjectResponseCorrectness</th>\n",
       "      <th>TrialOutcome</th>\n",
       "      <th>StopSignalDelay</th>\n",
       "      <th>LadderNumber</th>\n",
       "      <th>LadderTime</th>\n",
       "      <th>LadderMovement</th>\n",
       "      <th>TimeCourse</th>\n",
       "      <th>onset_noTriggerAdjust</th>\n",
       "      <th>TimeCourse_noTriggerAdjust</th>\n",
       "    </tr>\n",
       "  </thead>\n",
       "  <tbody>\n",
       "    <tr>\n",
       "      <td>0</td>\n",
       "      <td>2.008960</td>\n",
       "      <td>1.5</td>\n",
       "      <td>GO</td>\n",
       "      <td>LEFT</td>\n",
       "      <td>0.510127</td>\n",
       "      <td>LEFT</td>\n",
       "      <td>5</td>\n",
       "      <td>CorrectResponse</td>\n",
       "      <td>SuccessfulGo</td>\n",
       "      <td>0.0</td>\n",
       "      <td>0</td>\n",
       "      <td>0</td>\n",
       "      <td>0</td>\n",
       "      <td>2.000</td>\n",
       "      <td>0.008960</td>\n",
       "      <td>0.000</td>\n",
       "    </tr>\n",
       "    <tr>\n",
       "      <td>2</td>\n",
       "      <td>6.377515</td>\n",
       "      <td>1.5</td>\n",
       "      <td>GO</td>\n",
       "      <td>LEFT</td>\n",
       "      <td>0.529451</td>\n",
       "      <td>LEFT</td>\n",
       "      <td>5</td>\n",
       "      <td>CorrectResponse</td>\n",
       "      <td>SuccessfulGo</td>\n",
       "      <td>0.0</td>\n",
       "      <td>0</td>\n",
       "      <td>0</td>\n",
       "      <td>0</td>\n",
       "      <td>6.375</td>\n",
       "      <td>4.377515</td>\n",
       "      <td>4.375</td>\n",
       "    </tr>\n",
       "    <tr>\n",
       "      <td>4</td>\n",
       "      <td>9.885531</td>\n",
       "      <td>1.5</td>\n",
       "      <td>GO</td>\n",
       "      <td>RIGHT</td>\n",
       "      <td>0.333150</td>\n",
       "      <td>RIGHT</td>\n",
       "      <td>28</td>\n",
       "      <td>CorrectResponse</td>\n",
       "      <td>SuccessfulGo</td>\n",
       "      <td>0.0</td>\n",
       "      <td>0</td>\n",
       "      <td>0</td>\n",
       "      <td>0</td>\n",
       "      <td>9.875</td>\n",
       "      <td>7.885531</td>\n",
       "      <td>7.875</td>\n",
       "    </tr>\n",
       "    <tr>\n",
       "      <td>6</td>\n",
       "      <td>12.384053</td>\n",
       "      <td>1.5</td>\n",
       "      <td>GO</td>\n",
       "      <td>RIGHT</td>\n",
       "      <td>0.355458</td>\n",
       "      <td>RIGHT</td>\n",
       "      <td>28</td>\n",
       "      <td>CorrectResponse</td>\n",
       "      <td>SuccessfulGo</td>\n",
       "      <td>0.0</td>\n",
       "      <td>0</td>\n",
       "      <td>0</td>\n",
       "      <td>0</td>\n",
       "      <td>12.375</td>\n",
       "      <td>10.384053</td>\n",
       "      <td>10.375</td>\n",
       "    </tr>\n",
       "    <tr>\n",
       "      <td>8</td>\n",
       "      <td>14.502021</td>\n",
       "      <td>1.5</td>\n",
       "      <td>GO</td>\n",
       "      <td>LEFT</td>\n",
       "      <td>0.331121</td>\n",
       "      <td>LEFT</td>\n",
       "      <td>5</td>\n",
       "      <td>CorrectResponse</td>\n",
       "      <td>SuccessfulGo</td>\n",
       "      <td>0.0</td>\n",
       "      <td>0</td>\n",
       "      <td>0</td>\n",
       "      <td>0</td>\n",
       "      <td>14.500</td>\n",
       "      <td>12.502021</td>\n",
       "      <td>12.500</td>\n",
       "    </tr>\n",
       "  </tbody>\n",
       "</table>\n",
       "</div>"
      ],
      "text/plain": [
       "       onset  duration trial_type PresentedStimulusArrowDirection  \\\n",
       "0   2.008960       1.5         GO                            LEFT   \n",
       "2   6.377515       1.5         GO                            LEFT   \n",
       "4   9.885531       1.5         GO                           RIGHT   \n",
       "6  12.384053       1.5         GO                           RIGHT   \n",
       "8  14.502021       1.5         GO                            LEFT   \n",
       "\n",
       "   ReactionTime SubjectResponseButton  SubjectResponseButtonCode  \\\n",
       "0      0.510127                  LEFT                          5   \n",
       "2      0.529451                  LEFT                          5   \n",
       "4      0.333150                 RIGHT                         28   \n",
       "6      0.355458                 RIGHT                         28   \n",
       "8      0.331121                  LEFT                          5   \n",
       "\n",
       "  SubjectResponseCorrectness  TrialOutcome  StopSignalDelay  LadderNumber  \\\n",
       "0            CorrectResponse  SuccessfulGo              0.0             0   \n",
       "2            CorrectResponse  SuccessfulGo              0.0             0   \n",
       "4            CorrectResponse  SuccessfulGo              0.0             0   \n",
       "6            CorrectResponse  SuccessfulGo              0.0             0   \n",
       "8            CorrectResponse  SuccessfulGo              0.0             0   \n",
       "\n",
       "   LadderTime  LadderMovement  TimeCourse  onset_noTriggerAdjust  \\\n",
       "0           0               0       2.000               0.008960   \n",
       "2           0               0       6.375               4.377515   \n",
       "4           0               0       9.875               7.885531   \n",
       "6           0               0      12.375              10.384053   \n",
       "8           0               0      14.500              12.502021   \n",
       "\n",
       "   TimeCourse_noTriggerAdjust  \n",
       "0                       0.000  \n",
       "2                       4.375  \n",
       "4                       7.875  \n",
       "6                      10.375  \n",
       "8                      12.500  "
      ]
     },
     "execution_count": 16,
     "metadata": {},
     "output_type": "execute_result"
    }
   ],
   "source": [
    "import numpy as np\n",
    "sst = sst[np.invert(sst['SubjectResponseCorrectness'].isnull())] #get all the data without blankscreen responses\n",
    "sst.head()"
   ]
  },
  {
   "cell_type": "code",
   "execution_count": 10,
   "metadata": {},
   "outputs": [
    {
     "data": {
      "text/plain": [
       "0.40625"
      ]
     },
     "execution_count": 10,
     "metadata": {},
     "output_type": "execute_result"
    }
   ],
   "source": [
    "stop_trials = sst[sst['trial_type']=='STOP']\n",
    "total_stop = len(stop_trials)\n",
    "unsuccessful_stop = len(stop_trials[stop_trials['TrialOutcome']=='UnsuccessfulStop'])\n",
    "score = unsuccessful_stop / total_stop\n",
    "score"
   ]
  },
  {
   "cell_type": "markdown",
   "metadata": {},
   "source": [
    "### Schizo Sample"
   ]
  },
  {
   "cell_type": "code",
   "execution_count": 38,
   "metadata": {},
   "outputs": [
    {
     "data": {
      "text/plain": [
       "0.5625"
      ]
     },
     "execution_count": 38,
     "metadata": {},
     "output_type": "execute_result"
    }
   ],
   "source": [
    "sst_schiz = pd.read_csv('/Users/sarahting/desktop/sub-50006_func_sub-50006_task-stopsignal_events.tsv',sep='\\t')\n",
    "sst_schiz = sst_schiz[np.invert(sst_schiz['SubjectResponseCorrectness'].isnull())] #get all the data without blankscreen responses\n",
    "\n",
    "stop_trials = sst_schiz[sst_schiz['trial_type']=='STOP']\n",
    "total_stop = len(stop_trials)\n",
    "unsuccessful_stop = len(stop_trials[stop_trials['TrialOutcome']=='UnsuccessfulStop'])\n",
    "score = unsuccessful_stop / total_stop\n",
    "score"
   ]
  },
  {
   "cell_type": "markdown",
   "metadata": {},
   "source": [
    "### Bipolar Sample"
   ]
  },
  {
   "cell_type": "code",
   "execution_count": 39,
   "metadata": {},
   "outputs": [
    {
     "data": {
      "text/plain": [
       "0.53125"
      ]
     },
     "execution_count": 39,
     "metadata": {},
     "output_type": "execute_result"
    }
   ],
   "source": [
    "sst_bip = pd.read_csv('/Users/sarahting/desktop/sub-60079_func_sub-60079_task-stopsignal_events.tsv',sep='\\t')\n",
    "sst_bip = sst_bip[np.invert(sst_bip['SubjectResponseCorrectness'].isnull())] #get all the data without blankscreen responses\n",
    "\n",
    "stop_trials = sst_bip[sst_bip['trial_type']=='STOP']\n",
    "total_bip = len(stop_trials)\n",
    "unsuccessful_stop = len(stop_trials[stop_trials['TrialOutcome']=='UnsuccessfulStop'])\n",
    "score = unsuccessful_stop / total_stop\n",
    "score"
   ]
  },
  {
   "cell_type": "markdown",
   "metadata": {},
   "source": [
    "### Function for proportion of successful stops"
   ]
  },
  {
   "cell_type": "code",
   "execution_count": 36,
   "metadata": {},
   "outputs": [],
   "source": [
    "def pss(sst):\n",
    "    stop_trials = sst[sst['trial_type']=='STOP']\n",
    "    total_stop = len(stop_trials)\n",
    "    unsuccessful_stop = len(stop_trials[stop_trials['TrialOutcome']=='UnsuccessfulStop'])\n",
    "    score = unsuccessful_stop / total_stop\n",
    "    return score"
   ]
  },
  {
   "cell_type": "markdown",
   "metadata": {},
   "source": [
    "# Exploring direction error"
   ]
  },
  {
   "cell_type": "markdown",
   "metadata": {},
   "source": [
    "### Controls Sample"
   ]
  },
  {
   "cell_type": "code",
   "execution_count": 17,
   "metadata": {},
   "outputs": [
    {
     "data": {
      "text/html": [
       "<div>\n",
       "<style scoped>\n",
       "    .dataframe tbody tr th:only-of-type {\n",
       "        vertical-align: middle;\n",
       "    }\n",
       "\n",
       "    .dataframe tbody tr th {\n",
       "        vertical-align: top;\n",
       "    }\n",
       "\n",
       "    .dataframe thead th {\n",
       "        text-align: right;\n",
       "    }\n",
       "</style>\n",
       "<table border=\"1\" class=\"dataframe\">\n",
       "  <thead>\n",
       "    <tr style=\"text-align: right;\">\n",
       "      <th></th>\n",
       "      <th>onset</th>\n",
       "      <th>duration</th>\n",
       "      <th>trial_type</th>\n",
       "      <th>PresentedStimulusArrowDirection</th>\n",
       "      <th>ReactionTime</th>\n",
       "      <th>SubjectResponseButton</th>\n",
       "      <th>SubjectResponseButtonCode</th>\n",
       "      <th>SubjectResponseCorrectness</th>\n",
       "      <th>TrialOutcome</th>\n",
       "      <th>StopSignalDelay</th>\n",
       "      <th>LadderNumber</th>\n",
       "      <th>LadderTime</th>\n",
       "      <th>LadderMovement</th>\n",
       "      <th>TimeCourse</th>\n",
       "      <th>onset_noTriggerAdjust</th>\n",
       "      <th>TimeCourse_noTriggerAdjust</th>\n",
       "    </tr>\n",
       "  </thead>\n",
       "  <tbody>\n",
       "    <tr>\n",
       "      <td>0</td>\n",
       "      <td>2.008960</td>\n",
       "      <td>1.5</td>\n",
       "      <td>GO</td>\n",
       "      <td>LEFT</td>\n",
       "      <td>0.510127</td>\n",
       "      <td>LEFT</td>\n",
       "      <td>5</td>\n",
       "      <td>CorrectResponse</td>\n",
       "      <td>SuccessfulGo</td>\n",
       "      <td>0.0</td>\n",
       "      <td>0</td>\n",
       "      <td>0</td>\n",
       "      <td>0</td>\n",
       "      <td>2.000</td>\n",
       "      <td>0.008960</td>\n",
       "      <td>0.000</td>\n",
       "    </tr>\n",
       "    <tr>\n",
       "      <td>2</td>\n",
       "      <td>6.377515</td>\n",
       "      <td>1.5</td>\n",
       "      <td>GO</td>\n",
       "      <td>LEFT</td>\n",
       "      <td>0.529451</td>\n",
       "      <td>LEFT</td>\n",
       "      <td>5</td>\n",
       "      <td>CorrectResponse</td>\n",
       "      <td>SuccessfulGo</td>\n",
       "      <td>0.0</td>\n",
       "      <td>0</td>\n",
       "      <td>0</td>\n",
       "      <td>0</td>\n",
       "      <td>6.375</td>\n",
       "      <td>4.377515</td>\n",
       "      <td>4.375</td>\n",
       "    </tr>\n",
       "    <tr>\n",
       "      <td>4</td>\n",
       "      <td>9.885531</td>\n",
       "      <td>1.5</td>\n",
       "      <td>GO</td>\n",
       "      <td>RIGHT</td>\n",
       "      <td>0.333150</td>\n",
       "      <td>RIGHT</td>\n",
       "      <td>28</td>\n",
       "      <td>CorrectResponse</td>\n",
       "      <td>SuccessfulGo</td>\n",
       "      <td>0.0</td>\n",
       "      <td>0</td>\n",
       "      <td>0</td>\n",
       "      <td>0</td>\n",
       "      <td>9.875</td>\n",
       "      <td>7.885531</td>\n",
       "      <td>7.875</td>\n",
       "    </tr>\n",
       "    <tr>\n",
       "      <td>6</td>\n",
       "      <td>12.384053</td>\n",
       "      <td>1.5</td>\n",
       "      <td>GO</td>\n",
       "      <td>RIGHT</td>\n",
       "      <td>0.355458</td>\n",
       "      <td>RIGHT</td>\n",
       "      <td>28</td>\n",
       "      <td>CorrectResponse</td>\n",
       "      <td>SuccessfulGo</td>\n",
       "      <td>0.0</td>\n",
       "      <td>0</td>\n",
       "      <td>0</td>\n",
       "      <td>0</td>\n",
       "      <td>12.375</td>\n",
       "      <td>10.384053</td>\n",
       "      <td>10.375</td>\n",
       "    </tr>\n",
       "    <tr>\n",
       "      <td>8</td>\n",
       "      <td>14.502021</td>\n",
       "      <td>1.5</td>\n",
       "      <td>GO</td>\n",
       "      <td>LEFT</td>\n",
       "      <td>0.331121</td>\n",
       "      <td>LEFT</td>\n",
       "      <td>5</td>\n",
       "      <td>CorrectResponse</td>\n",
       "      <td>SuccessfulGo</td>\n",
       "      <td>0.0</td>\n",
       "      <td>0</td>\n",
       "      <td>0</td>\n",
       "      <td>0</td>\n",
       "      <td>14.500</td>\n",
       "      <td>12.502021</td>\n",
       "      <td>12.500</td>\n",
       "    </tr>\n",
       "  </tbody>\n",
       "</table>\n",
       "</div>"
      ],
      "text/plain": [
       "       onset  duration trial_type PresentedStimulusArrowDirection  \\\n",
       "0   2.008960       1.5         GO                            LEFT   \n",
       "2   6.377515       1.5         GO                            LEFT   \n",
       "4   9.885531       1.5         GO                           RIGHT   \n",
       "6  12.384053       1.5         GO                           RIGHT   \n",
       "8  14.502021       1.5         GO                            LEFT   \n",
       "\n",
       "   ReactionTime SubjectResponseButton  SubjectResponseButtonCode  \\\n",
       "0      0.510127                  LEFT                          5   \n",
       "2      0.529451                  LEFT                          5   \n",
       "4      0.333150                 RIGHT                         28   \n",
       "6      0.355458                 RIGHT                         28   \n",
       "8      0.331121                  LEFT                          5   \n",
       "\n",
       "  SubjectResponseCorrectness  TrialOutcome  StopSignalDelay  LadderNumber  \\\n",
       "0            CorrectResponse  SuccessfulGo              0.0             0   \n",
       "2            CorrectResponse  SuccessfulGo              0.0             0   \n",
       "4            CorrectResponse  SuccessfulGo              0.0             0   \n",
       "6            CorrectResponse  SuccessfulGo              0.0             0   \n",
       "8            CorrectResponse  SuccessfulGo              0.0             0   \n",
       "\n",
       "   LadderTime  LadderMovement  TimeCourse  onset_noTriggerAdjust  \\\n",
       "0           0               0       2.000               0.008960   \n",
       "2           0               0       6.375               4.377515   \n",
       "4           0               0       9.875               7.885531   \n",
       "6           0               0      12.375              10.384053   \n",
       "8           0               0      14.500              12.502021   \n",
       "\n",
       "   TimeCourse_noTriggerAdjust  \n",
       "0                       0.000  \n",
       "2                       4.375  \n",
       "4                       7.875  \n",
       "6                      10.375  \n",
       "8                      12.500  "
      ]
     },
     "execution_count": 17,
     "metadata": {},
     "output_type": "execute_result"
    }
   ],
   "source": [
    "sst.head()"
   ]
  },
  {
   "cell_type": "code",
   "execution_count": 33,
   "metadata": {},
   "outputs": [
    {
     "data": {
      "text/plain": [
       "0.981651376146789"
      ]
     },
     "execution_count": 33,
     "metadata": {},
     "output_type": "execute_result"
    }
   ],
   "source": [
    "sst_dir = sst[np.invert(sst['SubjectResponseButton'].isnull())]\n",
    "incor_dir = sst_dir[sst_dir['SubjectResponseCorrectness']=='IncorrectResponse']\n",
    "dir_score = (len(sst_dir)-len(incor_dir))/len(sst_dir)\n",
    "dir_score"
   ]
  },
  {
   "cell_type": "markdown",
   "metadata": {},
   "source": [
    "### Schizo Sample"
   ]
  },
  {
   "cell_type": "code",
   "execution_count": 31,
   "metadata": {},
   "outputs": [
    {
     "data": {
      "text/plain": [
       "1.0"
      ]
     },
     "execution_count": 31,
     "metadata": {},
     "output_type": "execute_result"
    }
   ],
   "source": [
    "sst_schiz.head()\n",
    "sst_dir_schiz = sst_schiz[np.invert(sst_schiz['SubjectResponseButton'].isnull())]\n",
    "incor_dir_schiz = sst_dir_schiz[sst_dir_schiz['SubjectResponseCorrectness']=='IncorrectResponse']\n",
    "dir_schiz_score = (len(sst_dir_schiz)-len(incor_dir_schiz))/len(sst_dir_schiz)\n",
    "dir_schiz_score"
   ]
  },
  {
   "cell_type": "markdown",
   "metadata": {},
   "source": [
    "### Bipolar Sample"
   ]
  },
  {
   "cell_type": "code",
   "execution_count": 30,
   "metadata": {},
   "outputs": [
    {
     "data": {
      "text/plain": [
       "0.9646017699115044"
      ]
     },
     "execution_count": 30,
     "metadata": {},
     "output_type": "execute_result"
    }
   ],
   "source": [
    "sst_dir_bip = sst_bip[np.invert(sst_bip['SubjectResponseButton'].isnull())]\n",
    "incor_dir_bip = sst_dir_bip[sst_dir_bip['SubjectResponseCorrectness']=='IncorrectResponse']\n",
    "dir_bip_score = (len(sst_dir_bip)-len(incor_dir_bip))/len(sst_dir_bip)\n",
    "dir_bip_score"
   ]
  },
  {
   "cell_type": "markdown",
   "metadata": {},
   "source": [
    "### Function for Direction Score"
   ]
  },
  {
   "cell_type": "code",
   "execution_count": 35,
   "metadata": {},
   "outputs": [],
   "source": [
    "def dir_score(sst):\n",
    "    sst_dir = sst[np.invert(sst['SubjectResponseButton'].isnull())]\n",
    "    incor_dir = sst_dir[sst_dir['SubjectResponseCorrectness']=='IncorrectResponse']\n",
    "    dir_score = (len(sst_dir)-len(incor_dir))/len(sst_dir)\n",
    "    return dir_score"
   ]
  },
  {
   "cell_type": "markdown",
   "metadata": {},
   "source": [
    "## Exploring median correct reaction time on Go trials"
   ]
  },
  {
   "cell_type": "markdown",
   "metadata": {},
   "source": [
    "### Bipolar Sample"
   ]
  },
  {
   "cell_type": "code",
   "execution_count": 40,
   "metadata": {},
   "outputs": [
    {
     "data": {
      "text/html": [
       "<div>\n",
       "<style scoped>\n",
       "    .dataframe tbody tr th:only-of-type {\n",
       "        vertical-align: middle;\n",
       "    }\n",
       "\n",
       "    .dataframe tbody tr th {\n",
       "        vertical-align: top;\n",
       "    }\n",
       "\n",
       "    .dataframe thead th {\n",
       "        text-align: right;\n",
       "    }\n",
       "</style>\n",
       "<table border=\"1\" class=\"dataframe\">\n",
       "  <thead>\n",
       "    <tr style=\"text-align: right;\">\n",
       "      <th></th>\n",
       "      <th>onset</th>\n",
       "      <th>duration</th>\n",
       "      <th>trial_type</th>\n",
       "      <th>PresentedStimulusArrowDirection</th>\n",
       "      <th>ReactionTime</th>\n",
       "      <th>SubjectResponseButton</th>\n",
       "      <th>SubjectResponseButtonCode</th>\n",
       "      <th>SubjectResponseCorrectness</th>\n",
       "      <th>TrialOutcome</th>\n",
       "      <th>StopSignalDelay</th>\n",
       "      <th>LadderNumber</th>\n",
       "      <th>LadderTime</th>\n",
       "      <th>LadderMovement</th>\n",
       "      <th>TimeCourse</th>\n",
       "      <th>onset_noTriggerAdjust</th>\n",
       "      <th>TimeCourse_noTriggerAdjust</th>\n",
       "    </tr>\n",
       "  </thead>\n",
       "  <tbody>\n",
       "    <tr>\n",
       "      <td>0</td>\n",
       "      <td>0.018732</td>\n",
       "      <td>1.5</td>\n",
       "      <td>STOP</td>\n",
       "      <td>LEFT</td>\n",
       "      <td>0.000000</td>\n",
       "      <td>NaN</td>\n",
       "      <td>0</td>\n",
       "      <td>IncorrectResponse</td>\n",
       "      <td>SuccessfulStop</td>\n",
       "      <td>0.250387</td>\n",
       "      <td>2</td>\n",
       "      <td>250</td>\n",
       "      <td>1</td>\n",
       "      <td>0.000</td>\n",
       "      <td>0.018732</td>\n",
       "      <td>0.000</td>\n",
       "    </tr>\n",
       "    <tr>\n",
       "      <td>2</td>\n",
       "      <td>2.389508</td>\n",
       "      <td>1.5</td>\n",
       "      <td>STOP</td>\n",
       "      <td>RIGHT</td>\n",
       "      <td>0.000000</td>\n",
       "      <td>NaN</td>\n",
       "      <td>0</td>\n",
       "      <td>IncorrectResponse</td>\n",
       "      <td>SuccessfulStop</td>\n",
       "      <td>0.352329</td>\n",
       "      <td>1</td>\n",
       "      <td>350</td>\n",
       "      <td>1</td>\n",
       "      <td>2.375</td>\n",
       "      <td>2.389508</td>\n",
       "      <td>2.375</td>\n",
       "    </tr>\n",
       "    <tr>\n",
       "      <td>4</td>\n",
       "      <td>7.512327</td>\n",
       "      <td>1.5</td>\n",
       "      <td>GO</td>\n",
       "      <td>RIGHT</td>\n",
       "      <td>0.600701</td>\n",
       "      <td>RIGHT</td>\n",
       "      <td>28</td>\n",
       "      <td>CorrectResponse</td>\n",
       "      <td>SuccessfulGo</td>\n",
       "      <td>0.000000</td>\n",
       "      <td>0</td>\n",
       "      <td>0</td>\n",
       "      <td>0</td>\n",
       "      <td>7.500</td>\n",
       "      <td>7.512327</td>\n",
       "      <td>7.500</td>\n",
       "    </tr>\n",
       "    <tr>\n",
       "      <td>6</td>\n",
       "      <td>9.883343</td>\n",
       "      <td>1.5</td>\n",
       "      <td>GO</td>\n",
       "      <td>RIGHT</td>\n",
       "      <td>0.385939</td>\n",
       "      <td>RIGHT</td>\n",
       "      <td>28</td>\n",
       "      <td>CorrectResponse</td>\n",
       "      <td>SuccessfulGo</td>\n",
       "      <td>0.000000</td>\n",
       "      <td>0</td>\n",
       "      <td>0</td>\n",
       "      <td>0</td>\n",
       "      <td>9.875</td>\n",
       "      <td>9.883343</td>\n",
       "      <td>9.875</td>\n",
       "    </tr>\n",
       "    <tr>\n",
       "      <td>8</td>\n",
       "      <td>12.138003</td>\n",
       "      <td>1.5</td>\n",
       "      <td>GO</td>\n",
       "      <td>LEFT</td>\n",
       "      <td>0.346271</td>\n",
       "      <td>LEFT</td>\n",
       "      <td>5</td>\n",
       "      <td>CorrectResponse</td>\n",
       "      <td>SuccessfulGo</td>\n",
       "      <td>0.000000</td>\n",
       "      <td>0</td>\n",
       "      <td>0</td>\n",
       "      <td>0</td>\n",
       "      <td>12.125</td>\n",
       "      <td>12.138003</td>\n",
       "      <td>12.125</td>\n",
       "    </tr>\n",
       "  </tbody>\n",
       "</table>\n",
       "</div>"
      ],
      "text/plain": [
       "       onset  duration trial_type PresentedStimulusArrowDirection  \\\n",
       "0   0.018732       1.5       STOP                            LEFT   \n",
       "2   2.389508       1.5       STOP                           RIGHT   \n",
       "4   7.512327       1.5         GO                           RIGHT   \n",
       "6   9.883343       1.5         GO                           RIGHT   \n",
       "8  12.138003       1.5         GO                            LEFT   \n",
       "\n",
       "   ReactionTime SubjectResponseButton  SubjectResponseButtonCode  \\\n",
       "0      0.000000                   NaN                          0   \n",
       "2      0.000000                   NaN                          0   \n",
       "4      0.600701                 RIGHT                         28   \n",
       "6      0.385939                 RIGHT                         28   \n",
       "8      0.346271                  LEFT                          5   \n",
       "\n",
       "  SubjectResponseCorrectness    TrialOutcome  StopSignalDelay  LadderNumber  \\\n",
       "0          IncorrectResponse  SuccessfulStop         0.250387             2   \n",
       "2          IncorrectResponse  SuccessfulStop         0.352329             1   \n",
       "4            CorrectResponse    SuccessfulGo         0.000000             0   \n",
       "6            CorrectResponse    SuccessfulGo         0.000000             0   \n",
       "8            CorrectResponse    SuccessfulGo         0.000000             0   \n",
       "\n",
       "   LadderTime  LadderMovement  TimeCourse  onset_noTriggerAdjust  \\\n",
       "0         250               1       0.000               0.018732   \n",
       "2         350               1       2.375               2.389508   \n",
       "4           0               0       7.500               7.512327   \n",
       "6           0               0       9.875               9.883343   \n",
       "8           0               0      12.125              12.138003   \n",
       "\n",
       "   TimeCourse_noTriggerAdjust  \n",
       "0                       0.000  \n",
       "2                       2.375  \n",
       "4                       7.500  \n",
       "6                       9.875  \n",
       "8                      12.125  "
      ]
     },
     "execution_count": 40,
     "metadata": {},
     "output_type": "execute_result"
    }
   ],
   "source": [
    "sst_bip.head()"
   ]
  },
  {
   "cell_type": "code",
   "execution_count": 46,
   "metadata": {},
   "outputs": [
    {
     "data": {
      "text/plain": [
       "0.4186617837204594"
      ]
     },
     "execution_count": 46,
     "metadata": {},
     "output_type": "execute_result"
    }
   ],
   "source": [
    "#filter for GO trials\n",
    "#filter out incorrect responses\n",
    "#grab reaction time\n",
    "bip_GO = sst_bip[(sst_bip['trial_type']=='GO') & (sst_bip['SubjectResponseCorrectness']=='CorrectResponse')]\n",
    "bip_GO['ReactionTime'].mean()"
   ]
  },
  {
   "cell_type": "markdown",
   "metadata": {},
   "source": [
    "### Schizo Sample "
   ]
  },
  {
   "cell_type": "code",
   "execution_count": 49,
   "metadata": {},
   "outputs": [
    {
     "data": {
      "text/plain": [
       "0.5806983862150608"
      ]
     },
     "execution_count": 49,
     "metadata": {},
     "output_type": "execute_result"
    }
   ],
   "source": [
    "schiz_GO = sst_schiz[(sst_bip['trial_type']=='GO') & (sst_bip['SubjectResponseCorrectness']=='CorrectResponse')]\n",
    "schiz_GO['ReactionTime'].mean()"
   ]
  },
  {
   "cell_type": "markdown",
   "metadata": {},
   "source": [
    "### Control Sample"
   ]
  },
  {
   "cell_type": "code",
   "execution_count": 50,
   "metadata": {},
   "outputs": [
    {
     "data": {
      "text/plain": [
       "0.3946567205591569"
      ]
     },
     "execution_count": 50,
     "metadata": {},
     "output_type": "execute_result"
    }
   ],
   "source": [
    "control_GO = sst[(sst_bip['trial_type']=='GO') & (sst_bip['SubjectResponseCorrectness']=='CorrectResponse')]\n",
    "control_GO['ReactionTime'].mean()"
   ]
  },
  {
   "cell_type": "markdown",
   "metadata": {},
   "source": [
    "### Function for mean reaction time on correct Go trials"
   ]
  },
  {
   "cell_type": "code",
   "execution_count": 51,
   "metadata": {},
   "outputs": [],
   "source": [
    "def grt(sst):\n",
    "    GO = sst[(sst_bip['trial_type']=='GO') & (sst_bip['SubjectResponseCorrectness']=='CorrectResponse')]\n",
    "    return GO['ReactionTime'].mean()"
   ]
  },
  {
   "cell_type": "markdown",
   "metadata": {},
   "source": [
    "## Exploring stop signal reaction time (SSRT) paused bc it requires integration of probabilities"
   ]
  },
  {
   "cell_type": "code",
   "execution_count": 52,
   "metadata": {},
   "outputs": [
    {
     "data": {
      "text/html": [
       "<div>\n",
       "<style scoped>\n",
       "    .dataframe tbody tr th:only-of-type {\n",
       "        vertical-align: middle;\n",
       "    }\n",
       "\n",
       "    .dataframe tbody tr th {\n",
       "        vertical-align: top;\n",
       "    }\n",
       "\n",
       "    .dataframe thead th {\n",
       "        text-align: right;\n",
       "    }\n",
       "</style>\n",
       "<table border=\"1\" class=\"dataframe\">\n",
       "  <thead>\n",
       "    <tr style=\"text-align: right;\">\n",
       "      <th></th>\n",
       "      <th>onset</th>\n",
       "      <th>duration</th>\n",
       "      <th>trial_type</th>\n",
       "      <th>PresentedStimulusArrowDirection</th>\n",
       "      <th>ReactionTime</th>\n",
       "      <th>SubjectResponseButton</th>\n",
       "      <th>SubjectResponseButtonCode</th>\n",
       "      <th>SubjectResponseCorrectness</th>\n",
       "      <th>TrialOutcome</th>\n",
       "      <th>StopSignalDelay</th>\n",
       "      <th>LadderNumber</th>\n",
       "      <th>LadderTime</th>\n",
       "      <th>LadderMovement</th>\n",
       "      <th>TimeCourse</th>\n",
       "      <th>onset_noTriggerAdjust</th>\n",
       "      <th>TimeCourse_noTriggerAdjust</th>\n",
       "    </tr>\n",
       "  </thead>\n",
       "  <tbody>\n",
       "    <tr>\n",
       "      <td>0</td>\n",
       "      <td>0.018732</td>\n",
       "      <td>1.5</td>\n",
       "      <td>STOP</td>\n",
       "      <td>LEFT</td>\n",
       "      <td>0.000000</td>\n",
       "      <td>NaN</td>\n",
       "      <td>0</td>\n",
       "      <td>IncorrectResponse</td>\n",
       "      <td>SuccessfulStop</td>\n",
       "      <td>0.250387</td>\n",
       "      <td>2</td>\n",
       "      <td>250</td>\n",
       "      <td>1</td>\n",
       "      <td>0.000</td>\n",
       "      <td>0.018732</td>\n",
       "      <td>0.000</td>\n",
       "    </tr>\n",
       "    <tr>\n",
       "      <td>2</td>\n",
       "      <td>2.389508</td>\n",
       "      <td>1.5</td>\n",
       "      <td>STOP</td>\n",
       "      <td>RIGHT</td>\n",
       "      <td>0.000000</td>\n",
       "      <td>NaN</td>\n",
       "      <td>0</td>\n",
       "      <td>IncorrectResponse</td>\n",
       "      <td>SuccessfulStop</td>\n",
       "      <td>0.352329</td>\n",
       "      <td>1</td>\n",
       "      <td>350</td>\n",
       "      <td>1</td>\n",
       "      <td>2.375</td>\n",
       "      <td>2.389508</td>\n",
       "      <td>2.375</td>\n",
       "    </tr>\n",
       "    <tr>\n",
       "      <td>4</td>\n",
       "      <td>7.512327</td>\n",
       "      <td>1.5</td>\n",
       "      <td>GO</td>\n",
       "      <td>RIGHT</td>\n",
       "      <td>0.600701</td>\n",
       "      <td>RIGHT</td>\n",
       "      <td>28</td>\n",
       "      <td>CorrectResponse</td>\n",
       "      <td>SuccessfulGo</td>\n",
       "      <td>0.000000</td>\n",
       "      <td>0</td>\n",
       "      <td>0</td>\n",
       "      <td>0</td>\n",
       "      <td>7.500</td>\n",
       "      <td>7.512327</td>\n",
       "      <td>7.500</td>\n",
       "    </tr>\n",
       "    <tr>\n",
       "      <td>6</td>\n",
       "      <td>9.883343</td>\n",
       "      <td>1.5</td>\n",
       "      <td>GO</td>\n",
       "      <td>RIGHT</td>\n",
       "      <td>0.385939</td>\n",
       "      <td>RIGHT</td>\n",
       "      <td>28</td>\n",
       "      <td>CorrectResponse</td>\n",
       "      <td>SuccessfulGo</td>\n",
       "      <td>0.000000</td>\n",
       "      <td>0</td>\n",
       "      <td>0</td>\n",
       "      <td>0</td>\n",
       "      <td>9.875</td>\n",
       "      <td>9.883343</td>\n",
       "      <td>9.875</td>\n",
       "    </tr>\n",
       "    <tr>\n",
       "      <td>8</td>\n",
       "      <td>12.138003</td>\n",
       "      <td>1.5</td>\n",
       "      <td>GO</td>\n",
       "      <td>LEFT</td>\n",
       "      <td>0.346271</td>\n",
       "      <td>LEFT</td>\n",
       "      <td>5</td>\n",
       "      <td>CorrectResponse</td>\n",
       "      <td>SuccessfulGo</td>\n",
       "      <td>0.000000</td>\n",
       "      <td>0</td>\n",
       "      <td>0</td>\n",
       "      <td>0</td>\n",
       "      <td>12.125</td>\n",
       "      <td>12.138003</td>\n",
       "      <td>12.125</td>\n",
       "    </tr>\n",
       "  </tbody>\n",
       "</table>\n",
       "</div>"
      ],
      "text/plain": [
       "       onset  duration trial_type PresentedStimulusArrowDirection  \\\n",
       "0   0.018732       1.5       STOP                            LEFT   \n",
       "2   2.389508       1.5       STOP                           RIGHT   \n",
       "4   7.512327       1.5         GO                           RIGHT   \n",
       "6   9.883343       1.5         GO                           RIGHT   \n",
       "8  12.138003       1.5         GO                            LEFT   \n",
       "\n",
       "   ReactionTime SubjectResponseButton  SubjectResponseButtonCode  \\\n",
       "0      0.000000                   NaN                          0   \n",
       "2      0.000000                   NaN                          0   \n",
       "4      0.600701                 RIGHT                         28   \n",
       "6      0.385939                 RIGHT                         28   \n",
       "8      0.346271                  LEFT                          5   \n",
       "\n",
       "  SubjectResponseCorrectness    TrialOutcome  StopSignalDelay  LadderNumber  \\\n",
       "0          IncorrectResponse  SuccessfulStop         0.250387             2   \n",
       "2          IncorrectResponse  SuccessfulStop         0.352329             1   \n",
       "4            CorrectResponse    SuccessfulGo         0.000000             0   \n",
       "6            CorrectResponse    SuccessfulGo         0.000000             0   \n",
       "8            CorrectResponse    SuccessfulGo         0.000000             0   \n",
       "\n",
       "   LadderTime  LadderMovement  TimeCourse  onset_noTriggerAdjust  \\\n",
       "0         250               1       0.000               0.018732   \n",
       "2         350               1       2.375               2.389508   \n",
       "4           0               0       7.500               7.512327   \n",
       "6           0               0       9.875               9.883343   \n",
       "8           0               0      12.125              12.138003   \n",
       "\n",
       "   TimeCourse_noTriggerAdjust  \n",
       "0                       0.000  \n",
       "2                       2.375  \n",
       "4                       7.500  \n",
       "6                       9.875  \n",
       "8                      12.125  "
      ]
     },
     "execution_count": 52,
     "metadata": {},
     "output_type": "execute_result"
    }
   ],
   "source": [
    "sst_bip.head()"
   ]
  },
  {
   "cell_type": "code",
   "execution_count": 55,
   "metadata": {},
   "outputs": [
    {
     "data": {
      "text/html": [
       "<div>\n",
       "<style scoped>\n",
       "    .dataframe tbody tr th:only-of-type {\n",
       "        vertical-align: middle;\n",
       "    }\n",
       "\n",
       "    .dataframe tbody tr th {\n",
       "        vertical-align: top;\n",
       "    }\n",
       "\n",
       "    .dataframe thead th {\n",
       "        text-align: right;\n",
       "    }\n",
       "</style>\n",
       "<table border=\"1\" class=\"dataframe\">\n",
       "  <thead>\n",
       "    <tr style=\"text-align: right;\">\n",
       "      <th></th>\n",
       "      <th>onset</th>\n",
       "      <th>duration</th>\n",
       "      <th>trial_type</th>\n",
       "      <th>PresentedStimulusArrowDirection</th>\n",
       "      <th>ReactionTime</th>\n",
       "      <th>SubjectResponseButton</th>\n",
       "      <th>SubjectResponseButtonCode</th>\n",
       "      <th>SubjectResponseCorrectness</th>\n",
       "      <th>TrialOutcome</th>\n",
       "      <th>StopSignalDelay</th>\n",
       "      <th>LadderNumber</th>\n",
       "      <th>LadderTime</th>\n",
       "      <th>LadderMovement</th>\n",
       "      <th>TimeCourse</th>\n",
       "      <th>onset_noTriggerAdjust</th>\n",
       "      <th>TimeCourse_noTriggerAdjust</th>\n",
       "    </tr>\n",
       "  </thead>\n",
       "  <tbody>\n",
       "    <tr>\n",
       "      <td>0</td>\n",
       "      <td>0.018732</td>\n",
       "      <td>1.5</td>\n",
       "      <td>STOP</td>\n",
       "      <td>LEFT</td>\n",
       "      <td>0.000000</td>\n",
       "      <td>NaN</td>\n",
       "      <td>0</td>\n",
       "      <td>IncorrectResponse</td>\n",
       "      <td>SuccessfulStop</td>\n",
       "      <td>0.250387</td>\n",
       "      <td>2</td>\n",
       "      <td>250</td>\n",
       "      <td>1</td>\n",
       "      <td>0.000</td>\n",
       "      <td>0.018732</td>\n",
       "      <td>0.000</td>\n",
       "    </tr>\n",
       "    <tr>\n",
       "      <td>2</td>\n",
       "      <td>2.389508</td>\n",
       "      <td>1.5</td>\n",
       "      <td>STOP</td>\n",
       "      <td>RIGHT</td>\n",
       "      <td>0.000000</td>\n",
       "      <td>NaN</td>\n",
       "      <td>0</td>\n",
       "      <td>IncorrectResponse</td>\n",
       "      <td>SuccessfulStop</td>\n",
       "      <td>0.352329</td>\n",
       "      <td>1</td>\n",
       "      <td>350</td>\n",
       "      <td>1</td>\n",
       "      <td>2.375</td>\n",
       "      <td>2.389508</td>\n",
       "      <td>2.375</td>\n",
       "    </tr>\n",
       "    <tr>\n",
       "      <td>28</td>\n",
       "      <td>38.896888</td>\n",
       "      <td>1.5</td>\n",
       "      <td>STOP</td>\n",
       "      <td>LEFT</td>\n",
       "      <td>0.000000</td>\n",
       "      <td>NaN</td>\n",
       "      <td>0</td>\n",
       "      <td>IncorrectResponse</td>\n",
       "      <td>SuccessfulStop</td>\n",
       "      <td>0.301683</td>\n",
       "      <td>2</td>\n",
       "      <td>300</td>\n",
       "      <td>1</td>\n",
       "      <td>38.875</td>\n",
       "      <td>38.896888</td>\n",
       "      <td>38.875</td>\n",
       "    </tr>\n",
       "    <tr>\n",
       "      <td>30</td>\n",
       "      <td>41.765189</td>\n",
       "      <td>1.5</td>\n",
       "      <td>STOP</td>\n",
       "      <td>RIGHT</td>\n",
       "      <td>0.342857</td>\n",
       "      <td>RIGHT</td>\n",
       "      <td>28</td>\n",
       "      <td>CorrectResponse</td>\n",
       "      <td>UnsuccessfulStop</td>\n",
       "      <td>0.000000</td>\n",
       "      <td>1</td>\n",
       "      <td>400</td>\n",
       "      <td>-1</td>\n",
       "      <td>41.750</td>\n",
       "      <td>41.765189</td>\n",
       "      <td>41.750</td>\n",
       "    </tr>\n",
       "    <tr>\n",
       "      <td>44</td>\n",
       "      <td>60.383466</td>\n",
       "      <td>1.5</td>\n",
       "      <td>STOP</td>\n",
       "      <td>LEFT</td>\n",
       "      <td>0.393304</td>\n",
       "      <td>LEFT</td>\n",
       "      <td>5</td>\n",
       "      <td>CorrectResponse</td>\n",
       "      <td>UnsuccessfulStop</td>\n",
       "      <td>0.350625</td>\n",
       "      <td>2</td>\n",
       "      <td>350</td>\n",
       "      <td>-1</td>\n",
       "      <td>60.375</td>\n",
       "      <td>60.383466</td>\n",
       "      <td>60.375</td>\n",
       "    </tr>\n",
       "    <tr>\n",
       "      <td>46</td>\n",
       "      <td>62.770935</td>\n",
       "      <td>1.5</td>\n",
       "      <td>STOP</td>\n",
       "      <td>RIGHT</td>\n",
       "      <td>0.299356</td>\n",
       "      <td>RIGHT</td>\n",
       "      <td>28</td>\n",
       "      <td>CorrectResponse</td>\n",
       "      <td>UnsuccessfulStop</td>\n",
       "      <td>0.000000</td>\n",
       "      <td>1</td>\n",
       "      <td>350</td>\n",
       "      <td>-1</td>\n",
       "      <td>62.750</td>\n",
       "      <td>62.770935</td>\n",
       "      <td>62.750</td>\n",
       "    </tr>\n",
       "    <tr>\n",
       "      <td>48</td>\n",
       "      <td>64.760353</td>\n",
       "      <td>1.5</td>\n",
       "      <td>STOP</td>\n",
       "      <td>LEFT</td>\n",
       "      <td>0.279585</td>\n",
       "      <td>LEFT</td>\n",
       "      <td>5</td>\n",
       "      <td>CorrectResponse</td>\n",
       "      <td>UnsuccessfulStop</td>\n",
       "      <td>0.000000</td>\n",
       "      <td>1</td>\n",
       "      <td>300</td>\n",
       "      <td>-1</td>\n",
       "      <td>64.750</td>\n",
       "      <td>64.760353</td>\n",
       "      <td>64.750</td>\n",
       "    </tr>\n",
       "    <tr>\n",
       "      <td>54</td>\n",
       "      <td>72.519565</td>\n",
       "      <td>1.5</td>\n",
       "      <td>STOP</td>\n",
       "      <td>RIGHT</td>\n",
       "      <td>0.296061</td>\n",
       "      <td>RIGHT</td>\n",
       "      <td>28</td>\n",
       "      <td>CorrectResponse</td>\n",
       "      <td>UnsuccessfulStop</td>\n",
       "      <td>0.000000</td>\n",
       "      <td>2</td>\n",
       "      <td>300</td>\n",
       "      <td>-1</td>\n",
       "      <td>72.500</td>\n",
       "      <td>72.519565</td>\n",
       "      <td>72.500</td>\n",
       "    </tr>\n",
       "    <tr>\n",
       "      <td>66</td>\n",
       "      <td>90.143102</td>\n",
       "      <td>1.5</td>\n",
       "      <td>STOP</td>\n",
       "      <td>RIGHT</td>\n",
       "      <td>0.000000</td>\n",
       "      <td>NaN</td>\n",
       "      <td>0</td>\n",
       "      <td>IncorrectResponse</td>\n",
       "      <td>SuccessfulStop</td>\n",
       "      <td>0.252211</td>\n",
       "      <td>1</td>\n",
       "      <td>250</td>\n",
       "      <td>1</td>\n",
       "      <td>90.125</td>\n",
       "      <td>90.143102</td>\n",
       "      <td>90.125</td>\n",
       "    </tr>\n",
       "    <tr>\n",
       "      <td>78</td>\n",
       "      <td>103.638624</td>\n",
       "      <td>1.5</td>\n",
       "      <td>STOP</td>\n",
       "      <td>LEFT</td>\n",
       "      <td>0.354920</td>\n",
       "      <td>LEFT</td>\n",
       "      <td>5</td>\n",
       "      <td>CorrectResponse</td>\n",
       "      <td>UnsuccessfulStop</td>\n",
       "      <td>0.251761</td>\n",
       "      <td>2</td>\n",
       "      <td>250</td>\n",
       "      <td>-1</td>\n",
       "      <td>103.625</td>\n",
       "      <td>103.638624</td>\n",
       "      <td>103.625</td>\n",
       "    </tr>\n",
       "  </tbody>\n",
       "</table>\n",
       "</div>"
      ],
      "text/plain": [
       "         onset  duration trial_type PresentedStimulusArrowDirection  \\\n",
       "0     0.018732       1.5       STOP                            LEFT   \n",
       "2     2.389508       1.5       STOP                           RIGHT   \n",
       "28   38.896888       1.5       STOP                            LEFT   \n",
       "30   41.765189       1.5       STOP                           RIGHT   \n",
       "44   60.383466       1.5       STOP                            LEFT   \n",
       "46   62.770935       1.5       STOP                           RIGHT   \n",
       "48   64.760353       1.5       STOP                            LEFT   \n",
       "54   72.519565       1.5       STOP                           RIGHT   \n",
       "66   90.143102       1.5       STOP                           RIGHT   \n",
       "78  103.638624       1.5       STOP                            LEFT   \n",
       "\n",
       "    ReactionTime SubjectResponseButton  SubjectResponseButtonCode  \\\n",
       "0       0.000000                   NaN                          0   \n",
       "2       0.000000                   NaN                          0   \n",
       "28      0.000000                   NaN                          0   \n",
       "30      0.342857                 RIGHT                         28   \n",
       "44      0.393304                  LEFT                          5   \n",
       "46      0.299356                 RIGHT                         28   \n",
       "48      0.279585                  LEFT                          5   \n",
       "54      0.296061                 RIGHT                         28   \n",
       "66      0.000000                   NaN                          0   \n",
       "78      0.354920                  LEFT                          5   \n",
       "\n",
       "   SubjectResponseCorrectness      TrialOutcome  StopSignalDelay  \\\n",
       "0           IncorrectResponse    SuccessfulStop         0.250387   \n",
       "2           IncorrectResponse    SuccessfulStop         0.352329   \n",
       "28          IncorrectResponse    SuccessfulStop         0.301683   \n",
       "30            CorrectResponse  UnsuccessfulStop         0.000000   \n",
       "44            CorrectResponse  UnsuccessfulStop         0.350625   \n",
       "46            CorrectResponse  UnsuccessfulStop         0.000000   \n",
       "48            CorrectResponse  UnsuccessfulStop         0.000000   \n",
       "54            CorrectResponse  UnsuccessfulStop         0.000000   \n",
       "66          IncorrectResponse    SuccessfulStop         0.252211   \n",
       "78            CorrectResponse  UnsuccessfulStop         0.251761   \n",
       "\n",
       "    LadderNumber  LadderTime  LadderMovement  TimeCourse  \\\n",
       "0              2         250               1       0.000   \n",
       "2              1         350               1       2.375   \n",
       "28             2         300               1      38.875   \n",
       "30             1         400              -1      41.750   \n",
       "44             2         350              -1      60.375   \n",
       "46             1         350              -1      62.750   \n",
       "48             1         300              -1      64.750   \n",
       "54             2         300              -1      72.500   \n",
       "66             1         250               1      90.125   \n",
       "78             2         250              -1     103.625   \n",
       "\n",
       "    onset_noTriggerAdjust  TimeCourse_noTriggerAdjust  \n",
       "0                0.018732                       0.000  \n",
       "2                2.389508                       2.375  \n",
       "28              38.896888                      38.875  \n",
       "30              41.765189                      41.750  \n",
       "44              60.383466                      60.375  \n",
       "46              62.770935                      62.750  \n",
       "48              64.760353                      64.750  \n",
       "54              72.519565                      72.500  \n",
       "66              90.143102                      90.125  \n",
       "78             103.638624                     103.625  "
      ]
     },
     "execution_count": 55,
     "metadata": {},
     "output_type": "execute_result"
    }
   ],
   "source": [
    "#filter for STOP in trial type\n",
    "#filter for reaction time\n",
    "sst_bip[sst_bip['trial_type']=='STOP'].head(10)"
   ]
  },
  {
   "cell_type": "markdown",
   "metadata": {},
   "source": [
    "## Exploring successful stop delays"
   ]
  },
  {
   "cell_type": "code",
   "execution_count": 60,
   "metadata": {},
   "outputs": [
    {
     "data": {
      "text/plain": [
       "0.24771621353344636"
      ]
     },
     "execution_count": 60,
     "metadata": {},
     "output_type": "execute_result"
    }
   ],
   "source": [
    "# Successful Stops Delay Biploar\n",
    "success_stop_bip = sst_bip[sst_bip['TrialOutcome']=='SuccessfulStop']\n",
    "success_stop_bip['StopSignalDelay'].mean()"
   ]
  },
  {
   "cell_type": "code",
   "execution_count": 61,
   "metadata": {},
   "outputs": [
    {
     "data": {
      "text/plain": [
       "0.5092257643571463"
      ]
     },
     "execution_count": 61,
     "metadata": {},
     "output_type": "execute_result"
    }
   ],
   "source": [
    "# Successful Stops Delay Schizo\n",
    "success_stop_schiz = sst_schiz[sst_schiz['TrialOutcome']=='SuccessfulStop']\n",
    "success_stop_schiz['StopSignalDelay'].mean()"
   ]
  },
  {
   "cell_type": "code",
   "execution_count": 64,
   "metadata": {},
   "outputs": [
    {
     "data": {
      "text/plain": [
       "0.213159245789436"
      ]
     },
     "execution_count": 64,
     "metadata": {},
     "output_type": "execute_result"
    }
   ],
   "source": [
    "# Successful Stops Delay Control\n",
    "success_stop = sst[sst['TrialOutcome']=='SuccessfulStop']\n",
    "success_stop['StopSignalDelay'].mean()"
   ]
  },
  {
   "cell_type": "markdown",
   "metadata": {},
   "source": [
    "### Function for stop delay"
   ]
  },
  {
   "cell_type": "code",
   "execution_count": 63,
   "metadata": {},
   "outputs": [],
   "source": [
    "def succ_stop_delay(sst):\n",
    "    bart = pd.read_csv(filepath,sep='\\t')\n",
    "    success_stop = sst[sst['TrialOutcome']=='SuccessfulStop']\n",
    "    return success_stop['StopSignalDelay'].mean()"
   ]
  },
  {
   "cell_type": "markdown",
   "metadata": {},
   "source": [
    "# Exploring All Participants' Stop Signal Task Data"
   ]
  },
  {
   "cell_type": "markdown",
   "metadata": {},
   "source": [
    "## Proportion of Successful Stops"
   ]
  },
  {
   "cell_type": "markdown",
   "metadata": {},
   "source": [
    "### Schizo Patients"
   ]
  },
  {
   "cell_type": "code",
   "execution_count": 92,
   "metadata": {},
   "outputs": [],
   "source": [
    "def pss_score(filepath):\n",
    "    sst = pd.read_csv(filepath,sep='\\t')\n",
    "    sst = sst[np.invert(sst['SubjectResponseCorrectness'].isnull())] \n",
    "    stop_trials = sst[sst['trial_type']=='STOP']\n",
    "    total_stop = len(stop_trials)\n",
    "    unsuccessful_stop = len(stop_trials[stop_trials['TrialOutcome']=='UnsuccessfulStop'])\n",
    "    score = unsuccessful_stop / total_stop\n",
    "    return round(score,2)"
   ]
  },
  {
   "cell_type": "code",
   "execution_count": 95,
   "metadata": {},
   "outputs": [],
   "source": [
    "import os\n",
    "path = '/Users/sarahting/desktop/stop signal/Schiz/'\n",
    "filenames = [path + filename for filename in os.listdir(path)]\n",
    "\n",
    "pss_schiz_scores = []\n",
    "for filepath in filenames:\n",
    "    if filepath.endswith('.tsv'):\n",
    "        pss_schiz_scores.append(pss_score(filepath))\n",
    "\n",
    "#pss_schiz_scores"
   ]
  },
  {
   "cell_type": "markdown",
   "metadata": {},
   "source": [
    "### Bipolar Patients"
   ]
  },
  {
   "cell_type": "code",
   "execution_count": 98,
   "metadata": {},
   "outputs": [],
   "source": [
    "def pss_score(filepath):\n",
    "    sst = pd.read_csv(filepath,sep='\\t')\n",
    "    sst = sst[np.invert(sst['SubjectResponseCorrectness'].isnull())] \n",
    "    stop_trials = sst[sst['trial_type']=='STOP']\n",
    "    total_stop = len(stop_trials)\n",
    "    unsuccessful_stop = len(stop_trials[stop_trials['TrialOutcome']=='UnsuccessfulStop'])\n",
    "    score = unsuccessful_stop / total_stop\n",
    "    return round(score,2)"
   ]
  },
  {
   "cell_type": "code",
   "execution_count": 100,
   "metadata": {},
   "outputs": [],
   "source": [
    "import os\n",
    "path = '/Users/sarahting/desktop/stop signal/Bipolar/'\n",
    "filenames = [path + filename for filename in os.listdir(path)]\n",
    "\n",
    "pss_bip_scores = []\n",
    "for filepath in filenames:\n",
    "    if filepath.endswith('.tsv'):\n",
    "        pss_bip_scores.append(pss_score(filepath))\n",
    "\n",
    "#pss_bip_scores"
   ]
  },
  {
   "cell_type": "markdown",
   "metadata": {},
   "source": [
    "### Dataframe for both groups of patients"
   ]
  },
  {
   "cell_type": "code",
   "execution_count": 107,
   "metadata": {},
   "outputs": [
    {
     "data": {
      "text/plain": [
       "Bipolar    0.517234\n",
       "Schiz      0.543061\n",
       "dtype: float64"
      ]
     },
     "execution_count": 107,
     "metadata": {},
     "output_type": "execute_result"
    }
   ],
   "source": [
    "pss_df = pd.DataFrame(data=[pss_bip_scores,pss_schiz_scores])\n",
    "pss_df = pss_df.T\n",
    "pss_df.columns = ['Bipolar','Schiz']\n",
    "pss_df.mean()"
   ]
  },
  {
   "cell_type": "code",
   "execution_count": 112,
   "metadata": {},
   "outputs": [
    {
     "data": {
      "image/png": "[encoded data removed]",
      "text/plain": [
       "<Figure size 864x360 with 1 Axes>"
      ]
     },
     "metadata": {
      "needs_background": "light"
     },
     "output_type": "display_data"
    }
   ],
   "source": [
    "import matplotlib.pyplot as plt\n",
    "%matplotlib inline\n",
    "import seaborn as sns\n",
    "plt.figure(figsize=(12,5))\n",
    "sns.distplot(pss_df['Bipolar'][:47], label='Bipolar')\n",
    "sns.distplot(pss_df['Schiz'],label='Schiz')\n",
    "plt.title('PSS Distribution for Bipolar vs. Schizo')\n",
    "plt.legend()\n",
    "plt.xlabel(None);"
   ]
  },
  {
   "cell_type": "markdown",
   "metadata": {},
   "source": [
    "## Direction Error"
   ]
  },
  {
   "cell_type": "markdown",
   "metadata": {},
   "source": [
    "### Bipolar"
   ]
  },
  {
   "cell_type": "code",
   "execution_count": 117,
   "metadata": {},
   "outputs": [],
   "source": [
    "def dir_score(filepath):\n",
    "    sst = pd.read_csv(filepath,sep='\\t')\n",
    "    sst_dir = sst[np.invert(sst['SubjectResponseButton'].isnull())]\n",
    "    incor_dir = sst_dir[sst_dir['SubjectResponseCorrectness']=='IncorrectResponse']\n",
    "    dir_score = (len(sst_dir)-len(incor_dir))/len(sst_dir)\n",
    "    return round(dir_score,2)"
   ]
  },
  {
   "cell_type": "code",
   "execution_count": 121,
   "metadata": {},
   "outputs": [],
   "source": [
    "import os\n",
    "path = '/Users/sarahting/desktop/stop signal/Bipolar/'\n",
    "filenames = [path + filename for filename in os.listdir(path)]\n",
    "\n",
    "dir_bip_scores = []\n",
    "for filepath in filenames:\n",
    "    if filepath.endswith('.tsv'):\n",
    "        dir_bip_scores.append(dir_score(filepath))\n",
    "\n",
    "#dir_bip_scores"
   ]
  },
  {
   "cell_type": "markdown",
   "metadata": {},
   "source": [
    "### Schizo"
   ]
  },
  {
   "cell_type": "code",
   "execution_count": null,
   "metadata": {},
   "outputs": [],
   "source": [
    "def dir_score(filepath):\n",
    "    sst = pd.read_csv(filepath,sep='\\t')\n",
    "    sst_dir = sst[np.invert(sst['SubjectResponseButton'].isnull())]\n",
    "    incor_dir = sst_dir[sst_dir['SubjectResponseCorrectness']=='IncorrectResponse']\n",
    "    dir_score = (len(sst_dir)-len(incor_dir))/len(sst_dir)\n",
    "    return round(dir_score,2)"
   ]
  },
  {
   "cell_type": "code",
   "execution_count": 123,
   "metadata": {},
   "outputs": [],
   "source": [
    "import os\n",
    "path = '/Users/sarahting/desktop/stop signal/Schiz/'\n",
    "filenames = [path + filename for filename in os.listdir(path)]\n",
    "\n",
    "dir_schiz_scores = []\n",
    "for filepath in filenames:\n",
    "    if filepath.endswith('.tsv'):\n",
    "        dir_schiz_scores.append(dir_score(filepath))\n",
    "\n",
    "#dir_schiz_scores"
   ]
  },
  {
   "cell_type": "markdown",
   "metadata": {},
   "source": [
    "### Dataframe "
   ]
  },
  {
   "cell_type": "code",
   "execution_count": 131,
   "metadata": {},
   "outputs": [
    {
     "data": {
      "text/plain": [
       "Bipolar    0.980426\n",
       "Schiz      0.967551\n",
       "dtype: float64"
      ]
     },
     "execution_count": 131,
     "metadata": {},
     "output_type": "execute_result"
    }
   ],
   "source": [
    "dir_df = pd.DataFrame(data=[dir_bip_scores,dir_schiz_scores])\n",
    "dir_df = dir_df.T\n",
    "dir_df.columns = ['Bipolar','Schiz']\n",
    "dir_df.mean()"
   ]
  },
  {
   "cell_type": "code",
   "execution_count": 132,
   "metadata": {},
   "outputs": [
    {
     "data": {
      "image/png": "[encoded data removed]",
      "text/plain": [
       "<Figure size 864x360 with 1 Axes>"
      ]
     },
     "metadata": {
      "needs_background": "light"
     },
     "output_type": "display_data"
    }
   ],
   "source": [
    "import matplotlib.pyplot as plt\n",
    "%matplotlib inline\n",
    "import seaborn as sns\n",
    "plt.figure(figsize=(12,5))\n",
    "sns.distplot(dir_df['Bipolar'][:47], label='Bipolar')\n",
    "sns.distplot(dir_df['Schiz'],label='Schiz')\n",
    "plt.title('Direction Score Distribution for Bipolar vs. Schizo')\n",
    "plt.legend()\n",
    "plt.xlabel(None);"
   ]
  },
  {
   "cell_type": "markdown",
   "metadata": {},
   "source": [
    "## Mean Correct Reaction Time on Go Trials"
   ]
  },
  {
   "cell_type": "markdown",
   "metadata": {},
   "source": [
    "### Bipolar "
   ]
  },
  {
   "cell_type": "code",
   "execution_count": 152,
   "metadata": {},
   "outputs": [],
   "source": [
    "def grt(filepath):\n",
    "    sst = pd.read_csv(filepath,sep='\\t')\n",
    "    sst = sst[np.invert(sst['SubjectResponseCorrectness'].isnull())] \n",
    "    GO = sst[(sst_bip['trial_type']=='GO') & (sst_bip['SubjectResponseCorrectness']=='CorrectResponse')]\n",
    "    return round(GO['ReactionTime'].mean(),2)"
   ]
  },
  {
   "cell_type": "code",
   "execution_count": 156,
   "metadata": {},
   "outputs": [],
   "source": [
    "import os\n",
    "path = '/Users/sarahting/desktop/stop signal/Bipolar/'\n",
    "filenames = [path + filename for filename in os.listdir(path)]\n",
    "\n",
    "grt_bip = []\n",
    "for filepath in filenames:\n",
    "    if filepath.endswith('.tsv'):\n",
    "        grt_bip.append(grt(filepath))\n",
    "\n",
    "#grt_bip"
   ]
  },
  {
   "cell_type": "markdown",
   "metadata": {},
   "source": [
    "### Schizo"
   ]
  },
  {
   "cell_type": "code",
   "execution_count": 146,
   "metadata": {},
   "outputs": [],
   "source": [
    "def grt(filepath):\n",
    "    sst = pd.read_csv(filepath,sep='\\t')\n",
    "    sst = sst[np.invert(sst['SubjectResponseCorrectness'].isnull())] \n",
    "    GO = sst[(sst_bip['trial_type']=='GO') & (sst_bip['SubjectResponseCorrectness']=='CorrectResponse')]\n",
    "    return round(GO['ReactionTime'].mean(),2)"
   ]
  },
  {
   "cell_type": "code",
   "execution_count": 148,
   "metadata": {},
   "outputs": [],
   "source": [
    "import os\n",
    "path = '/Users/sarahting/desktop/stop signal/Schiz/'\n",
    "filenames = [path + filename for filename in os.listdir(path)]\n",
    "\n",
    "grt_schiz = []\n",
    "for filepath in filenames:\n",
    "    if filepath.endswith('.tsv'):\n",
    "        grt_schiz.append(grt(filepath))\n",
    "\n",
    "#grt_schiz"
   ]
  },
  {
   "cell_type": "markdown",
   "metadata": {},
   "source": [
    "### Dataframe and Graph "
   ]
  },
  {
   "cell_type": "code",
   "execution_count": 154,
   "metadata": {},
   "outputs": [
    {
     "data": {
      "text/plain": [
       "Bipolar    0.453191\n",
       "Schiz      0.486939\n",
       "dtype: float64"
      ]
     },
     "execution_count": 154,
     "metadata": {},
     "output_type": "execute_result"
    }
   ],
   "source": [
    "grt_df = pd.DataFrame(data=[grt_bip,grt_schiz])\n",
    "grt_df = grt_df.T\n",
    "grt_df.columns = ['Bipolar','Schiz']\n",
    "grt_df.mean()"
   ]
  },
  {
   "cell_type": "code",
   "execution_count": 157,
   "metadata": {},
   "outputs": [
    {
     "data": {
      "image/png": "[encoded data removed]",
      "text/plain": [
       "<Figure size 864x360 with 1 Axes>"
      ]
     },
     "metadata": {
      "needs_background": "light"
     },
     "output_type": "display_data"
    }
   ],
   "source": [
    "import matplotlib.pyplot as plt\n",
    "%matplotlib inline\n",
    "import seaborn as sns\n",
    "plt.figure(figsize=(12,5))\n",
    "sns.distplot(grt_df['Bipolar'][:47], label='Bipolar')\n",
    "sns.distplot(grt_df['Schiz'],label='Schiz')\n",
    "plt.title('Go Trial Reaction Time Distribution for Bipolar vs. Schizo')\n",
    "plt.legend()\n",
    "plt.xlabel(None);"
   ]
  },
  {
   "cell_type": "code",
   "execution_count": null,
   "metadata": {},
   "outputs": [],
   "source": []
  }
 ],
 "metadata": {
  "kernelspec": {
   "display_name": "Python 3",
   "language": "python",
   "name": "python3"
  },
  "language_info": {
   "codemirror_mode": {
    "name": "ipython",
    "version": 3
   },
   "file_extension": ".py",
   "mimetype": "text/x-python",
   "name": "python",
   "nbconvert_exporter": "python",
   "pygments_lexer": "ipython3",
   "version": "3.7.4"
  }
 },
 "nbformat": 4,
 "nbformat_minor": 2
}
