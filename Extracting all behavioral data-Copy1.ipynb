{
 "cells": [
  {
   "cell_type": "code",
   "execution_count": 279,
   "metadata": {},
   "outputs": [],
   "source": [
    "import pandas as pd"
   ]
  },
  {
   "cell_type": "markdown",
   "metadata": {},
   "source": [
    "# Participants"
   ]
  },
  {
   "cell_type": "code",
   "execution_count": 280,
   "metadata": {},
   "outputs": [
    {
     "name": "stdout",
     "output_type": "stream",
     "text": [
      "(142, 16)\n",
      "(130, 16)\n"
     ]
    }
   ],
   "source": [
    "#participants\n",
    "p = pd.read_csv('/Users/sarahting/desktop/UCLA Consortium/participants.tsv', sep='\\t')\n",
    "print(p[p[\"diagnosis\"]!='CONTROL'].shape) #there are 142 patients\n",
    "print(p[p[\"diagnosis\"]=='CONTROL'].shape) #130 controls"
   ]
  },
  {
   "cell_type": "code",
   "execution_count": 281,
   "metadata": {},
   "outputs": [
    {
     "data": {
      "text/html": [
       "<div>\n",
       "<style scoped>\n",
       "    .dataframe tbody tr th:only-of-type {\n",
       "        vertical-align: middle;\n",
       "    }\n",
       "\n",
       "    .dataframe tbody tr th {\n",
       "        vertical-align: top;\n",
       "    }\n",
       "\n",
       "    .dataframe thead th {\n",
       "        text-align: right;\n",
       "    }\n",
       "</style>\n",
       "<table border=\"1\" class=\"dataframe\">\n",
       "  <thead>\n",
       "    <tr style=\"text-align: right;\">\n",
       "      <th></th>\n",
       "      <th>participant_id</th>\n",
       "      <th>diagnosis</th>\n",
       "      <th>age</th>\n",
       "      <th>gender</th>\n",
       "      <th>bart</th>\n",
       "      <th>bht</th>\n",
       "      <th>dwi</th>\n",
       "      <th>pamenc</th>\n",
       "      <th>pamret</th>\n",
       "      <th>rest</th>\n",
       "      <th>scap</th>\n",
       "      <th>stopsignal</th>\n",
       "      <th>T1w</th>\n",
       "      <th>taskswitch</th>\n",
       "      <th>ScannerSerialNumber</th>\n",
       "      <th>ghost_NoGhost</th>\n",
       "    </tr>\n",
       "  </thead>\n",
       "  <tbody>\n",
       "    <tr>\n",
       "      <td>0</td>\n",
       "      <td>sub-10159</td>\n",
       "      <td>CONTROL</td>\n",
       "      <td>30</td>\n",
       "      <td>F</td>\n",
       "      <td>1.0</td>\n",
       "      <td>NaN</td>\n",
       "      <td>1.0</td>\n",
       "      <td>NaN</td>\n",
       "      <td>NaN</td>\n",
       "      <td>1.0</td>\n",
       "      <td>1.0</td>\n",
       "      <td>1.0</td>\n",
       "      <td>1.0</td>\n",
       "      <td>1.0</td>\n",
       "      <td>35343.0</td>\n",
       "      <td>No_ghost</td>\n",
       "    </tr>\n",
       "    <tr>\n",
       "      <td>1</td>\n",
       "      <td>sub-10171</td>\n",
       "      <td>CONTROL</td>\n",
       "      <td>24</td>\n",
       "      <td>M</td>\n",
       "      <td>1.0</td>\n",
       "      <td>1.0</td>\n",
       "      <td>1.0</td>\n",
       "      <td>NaN</td>\n",
       "      <td>NaN</td>\n",
       "      <td>1.0</td>\n",
       "      <td>1.0</td>\n",
       "      <td>1.0</td>\n",
       "      <td>1.0</td>\n",
       "      <td>1.0</td>\n",
       "      <td>35343.0</td>\n",
       "      <td>No_ghost</td>\n",
       "    </tr>\n",
       "    <tr>\n",
       "      <td>2</td>\n",
       "      <td>sub-10189</td>\n",
       "      <td>CONTROL</td>\n",
       "      <td>49</td>\n",
       "      <td>M</td>\n",
       "      <td>1.0</td>\n",
       "      <td>NaN</td>\n",
       "      <td>1.0</td>\n",
       "      <td>NaN</td>\n",
       "      <td>NaN</td>\n",
       "      <td>1.0</td>\n",
       "      <td>1.0</td>\n",
       "      <td>1.0</td>\n",
       "      <td>1.0</td>\n",
       "      <td>1.0</td>\n",
       "      <td>35343.0</td>\n",
       "      <td>No_ghost</td>\n",
       "    </tr>\n",
       "    <tr>\n",
       "      <td>3</td>\n",
       "      <td>sub-10193</td>\n",
       "      <td>CONTROL</td>\n",
       "      <td>40</td>\n",
       "      <td>M</td>\n",
       "      <td>1.0</td>\n",
       "      <td>NaN</td>\n",
       "      <td>1.0</td>\n",
       "      <td>NaN</td>\n",
       "      <td>NaN</td>\n",
       "      <td>NaN</td>\n",
       "      <td>NaN</td>\n",
       "      <td>NaN</td>\n",
       "      <td>1.0</td>\n",
       "      <td>NaN</td>\n",
       "      <td>35343.0</td>\n",
       "      <td>No_ghost</td>\n",
       "    </tr>\n",
       "    <tr>\n",
       "      <td>4</td>\n",
       "      <td>sub-10206</td>\n",
       "      <td>CONTROL</td>\n",
       "      <td>21</td>\n",
       "      <td>M</td>\n",
       "      <td>1.0</td>\n",
       "      <td>NaN</td>\n",
       "      <td>1.0</td>\n",
       "      <td>NaN</td>\n",
       "      <td>NaN</td>\n",
       "      <td>1.0</td>\n",
       "      <td>1.0</td>\n",
       "      <td>1.0</td>\n",
       "      <td>1.0</td>\n",
       "      <td>1.0</td>\n",
       "      <td>35343.0</td>\n",
       "      <td>No_ghost</td>\n",
       "    </tr>\n",
       "  </tbody>\n",
       "</table>\n",
       "</div>"
      ],
      "text/plain": [
       "  participant_id diagnosis  age gender  bart  bht  dwi  pamenc  pamret  rest  \\\n",
       "0      sub-10159   CONTROL   30      F   1.0  NaN  1.0     NaN     NaN   1.0   \n",
       "1      sub-10171   CONTROL   24      M   1.0  1.0  1.0     NaN     NaN   1.0   \n",
       "2      sub-10189   CONTROL   49      M   1.0  NaN  1.0     NaN     NaN   1.0   \n",
       "3      sub-10193   CONTROL   40      M   1.0  NaN  1.0     NaN     NaN   NaN   \n",
       "4      sub-10206   CONTROL   21      M   1.0  NaN  1.0     NaN     NaN   1.0   \n",
       "\n",
       "   scap  stopsignal  T1w  taskswitch  ScannerSerialNumber ghost_NoGhost  \n",
       "0   1.0         1.0  1.0         1.0              35343.0      No_ghost  \n",
       "1   1.0         1.0  1.0         1.0              35343.0      No_ghost  \n",
       "2   1.0         1.0  1.0         1.0              35343.0      No_ghost  \n",
       "3   NaN         NaN  1.0         NaN              35343.0      No_ghost  \n",
       "4   1.0         1.0  1.0         1.0              35343.0      No_ghost  "
      ]
     },
     "execution_count": 281,
     "metadata": {},
     "output_type": "execute_result"
    }
   ],
   "source": [
    "p.head()"
   ]
  },
  {
   "cell_type": "code",
   "execution_count": 46,
   "metadata": {},
   "outputs": [
    {
     "data": {
      "text/plain": [
       "130"
      ]
     },
     "execution_count": 46,
     "metadata": {},
     "output_type": "execute_result"
    }
   ],
   "source": [
    "p.shape #total 272 participants\n",
    "p[p['diagnosis']=='SCHZ'].count()[0] #50 schizophrenic patients\n",
    "p[p['diagnosis']=='BIPOLAR'].count()[0] #49 bipolar patients\n",
    "p[p['diagnosis']=='CONTROL'].count()[0] #130 controls "
   ]
  },
  {
   "cell_type": "markdown",
   "metadata": {},
   "source": [
    "### Schizophrenic Patients Data"
   ]
  },
  {
   "cell_type": "code",
   "execution_count": 312,
   "metadata": {},
   "outputs": [
    {
     "data": {
      "text/html": [
       "<div>\n",
       "<style scoped>\n",
       "    .dataframe tbody tr th:only-of-type {\n",
       "        vertical-align: middle;\n",
       "    }\n",
       "\n",
       "    .dataframe tbody tr th {\n",
       "        vertical-align: top;\n",
       "    }\n",
       "\n",
       "    .dataframe thead th {\n",
       "        text-align: right;\n",
       "    }\n",
       "</style>\n",
       "<table border=\"1\" class=\"dataframe\">\n",
       "  <thead>\n",
       "    <tr style=\"text-align: right;\">\n",
       "      <th></th>\n",
       "      <th>participant_id</th>\n",
       "      <th>diagnosis</th>\n",
       "      <th>age</th>\n",
       "      <th>gender</th>\n",
       "      <th>bart</th>\n",
       "      <th>bht</th>\n",
       "      <th>dwi</th>\n",
       "      <th>pamenc</th>\n",
       "      <th>pamret</th>\n",
       "      <th>rest</th>\n",
       "      <th>scap</th>\n",
       "      <th>stopsignal</th>\n",
       "      <th>T1w</th>\n",
       "      <th>taskswitch</th>\n",
       "      <th>ScannerSerialNumber</th>\n",
       "      <th>ghost_NoGhost</th>\n",
       "    </tr>\n",
       "  </thead>\n",
       "  <tbody>\n",
       "    <tr>\n",
       "      <td>130</td>\n",
       "      <td>sub-50004</td>\n",
       "      <td>SCHZ</td>\n",
       "      <td>37</td>\n",
       "      <td>M</td>\n",
       "      <td>1.0</td>\n",
       "      <td>1.0</td>\n",
       "      <td>1.0</td>\n",
       "      <td>1.0</td>\n",
       "      <td>1.0</td>\n",
       "      <td>1.0</td>\n",
       "      <td>1.0</td>\n",
       "      <td>1.0</td>\n",
       "      <td>1.0</td>\n",
       "      <td>1.0</td>\n",
       "      <td>35343.0</td>\n",
       "      <td>ghost</td>\n",
       "    </tr>\n",
       "    <tr>\n",
       "      <td>131</td>\n",
       "      <td>sub-50005</td>\n",
       "      <td>SCHZ</td>\n",
       "      <td>40</td>\n",
       "      <td>M</td>\n",
       "      <td>1.0</td>\n",
       "      <td>1.0</td>\n",
       "      <td>1.0</td>\n",
       "      <td>NaN</td>\n",
       "      <td>NaN</td>\n",
       "      <td>1.0</td>\n",
       "      <td>1.0</td>\n",
       "      <td>1.0</td>\n",
       "      <td>1.0</td>\n",
       "      <td>1.0</td>\n",
       "      <td>35343.0</td>\n",
       "      <td>ghost</td>\n",
       "    </tr>\n",
       "    <tr>\n",
       "      <td>132</td>\n",
       "      <td>sub-50006</td>\n",
       "      <td>SCHZ</td>\n",
       "      <td>44</td>\n",
       "      <td>F</td>\n",
       "      <td>1.0</td>\n",
       "      <td>1.0</td>\n",
       "      <td>1.0</td>\n",
       "      <td>NaN</td>\n",
       "      <td>NaN</td>\n",
       "      <td>1.0</td>\n",
       "      <td>1.0</td>\n",
       "      <td>1.0</td>\n",
       "      <td>1.0</td>\n",
       "      <td>1.0</td>\n",
       "      <td>35343.0</td>\n",
       "      <td>No_ghost</td>\n",
       "    </tr>\n",
       "    <tr>\n",
       "      <td>133</td>\n",
       "      <td>sub-50007</td>\n",
       "      <td>SCHZ</td>\n",
       "      <td>47</td>\n",
       "      <td>F</td>\n",
       "      <td>1.0</td>\n",
       "      <td>1.0</td>\n",
       "      <td>1.0</td>\n",
       "      <td>NaN</td>\n",
       "      <td>NaN</td>\n",
       "      <td>1.0</td>\n",
       "      <td>1.0</td>\n",
       "      <td>1.0</td>\n",
       "      <td>1.0</td>\n",
       "      <td>1.0</td>\n",
       "      <td>35343.0</td>\n",
       "      <td>No_ghost</td>\n",
       "    </tr>\n",
       "    <tr>\n",
       "      <td>134</td>\n",
       "      <td>sub-50008</td>\n",
       "      <td>SCHZ</td>\n",
       "      <td>48</td>\n",
       "      <td>M</td>\n",
       "      <td>1.0</td>\n",
       "      <td>1.0</td>\n",
       "      <td>1.0</td>\n",
       "      <td>NaN</td>\n",
       "      <td>NaN</td>\n",
       "      <td>1.0</td>\n",
       "      <td>1.0</td>\n",
       "      <td>1.0</td>\n",
       "      <td>1.0</td>\n",
       "      <td>1.0</td>\n",
       "      <td>35343.0</td>\n",
       "      <td>ghost</td>\n",
       "    </tr>\n",
       "  </tbody>\n",
       "</table>\n",
       "</div>"
      ],
      "text/plain": [
       "    participant_id diagnosis  age gender  bart  bht  dwi  pamenc  pamret  \\\n",
       "130      sub-50004      SCHZ   37      M   1.0  1.0  1.0     1.0     1.0   \n",
       "131      sub-50005      SCHZ   40      M   1.0  1.0  1.0     NaN     NaN   \n",
       "132      sub-50006      SCHZ   44      F   1.0  1.0  1.0     NaN     NaN   \n",
       "133      sub-50007      SCHZ   47      F   1.0  1.0  1.0     NaN     NaN   \n",
       "134      sub-50008      SCHZ   48      M   1.0  1.0  1.0     NaN     NaN   \n",
       "\n",
       "     rest  scap  stopsignal  T1w  taskswitch  ScannerSerialNumber  \\\n",
       "130   1.0   1.0         1.0  1.0         1.0              35343.0   \n",
       "131   1.0   1.0         1.0  1.0         1.0              35343.0   \n",
       "132   1.0   1.0         1.0  1.0         1.0              35343.0   \n",
       "133   1.0   1.0         1.0  1.0         1.0              35343.0   \n",
       "134   1.0   1.0         1.0  1.0         1.0              35343.0   \n",
       "\n",
       "    ghost_NoGhost  \n",
       "130         ghost  \n",
       "131         ghost  \n",
       "132      No_ghost  \n",
       "133      No_ghost  \n",
       "134         ghost  "
      ]
     },
     "execution_count": 312,
     "metadata": {},
     "output_type": "execute_result"
    }
   ],
   "source": [
    "#Schizo Patients Data\n",
    "p[(p['diagnosis']=='SCHZ') & (p['bart']==1.0) & (p['scap']==1.0) & (p['stopsignal']==1.0) & (p['taskswitch']==1.0) & p['bht']==1.0].count()\n",
    "#there are 49 schizo participants where they have all behavioral tests.\n",
    "schiz_patients = p[(p['diagnosis']=='SCHZ') & (p['bart']==1.0) & (p['scap']==1.0) & (p['stopsignal']==1.0) & (p['taskswitch']==1.0) & p['bht']==1.0]\n",
    "#these are the schizo patients with full sets of behavioral data.\n",
    "schiz_patients.head()"
   ]
  },
  {
   "cell_type": "code",
   "execution_count": 314,
   "metadata": {},
   "outputs": [],
   "source": [
    "#list of schizo patients ID for use\n",
    "list_of_schizpatient_id = list(schiz_patients['participant_id'])\n",
    "#list_of_schizpatient_id"
   ]
  },
  {
   "cell_type": "markdown",
   "metadata": {},
   "source": [
    "### Bipolar Patient Data"
   ]
  },
  {
   "cell_type": "code",
   "execution_count": 42,
   "metadata": {},
   "outputs": [
    {
     "data": {
      "text/html": [
       "<div>\n",
       "<style scoped>\n",
       "    .dataframe tbody tr th:only-of-type {\n",
       "        vertical-align: middle;\n",
       "    }\n",
       "\n",
       "    .dataframe tbody tr th {\n",
       "        vertical-align: top;\n",
       "    }\n",
       "\n",
       "    .dataframe thead th {\n",
       "        text-align: right;\n",
       "    }\n",
       "</style>\n",
       "<table border=\"1\" class=\"dataframe\">\n",
       "  <thead>\n",
       "    <tr style=\"text-align: right;\">\n",
       "      <th></th>\n",
       "      <th>participant_id</th>\n",
       "      <th>diagnosis</th>\n",
       "      <th>age</th>\n",
       "      <th>gender</th>\n",
       "      <th>bart</th>\n",
       "      <th>bht</th>\n",
       "      <th>dwi</th>\n",
       "      <th>pamenc</th>\n",
       "      <th>pamret</th>\n",
       "      <th>rest</th>\n",
       "      <th>scap</th>\n",
       "      <th>stopsignal</th>\n",
       "      <th>T1w</th>\n",
       "      <th>taskswitch</th>\n",
       "      <th>ScannerSerialNumber</th>\n",
       "      <th>ghost_NoGhost</th>\n",
       "    </tr>\n",
       "  </thead>\n",
       "  <tbody>\n",
       "    <tr>\n",
       "      <td>181</td>\n",
       "      <td>sub-60005</td>\n",
       "      <td>BIPOLAR</td>\n",
       "      <td>50</td>\n",
       "      <td>F</td>\n",
       "      <td>1.0</td>\n",
       "      <td>1.0</td>\n",
       "      <td>1.0</td>\n",
       "      <td>1.0</td>\n",
       "      <td>1.0</td>\n",
       "      <td>1.0</td>\n",
       "      <td>1.0</td>\n",
       "      <td>1.0</td>\n",
       "      <td>1.0</td>\n",
       "      <td>1.0</td>\n",
       "      <td>35343.0</td>\n",
       "      <td>No_ghost</td>\n",
       "    </tr>\n",
       "    <tr>\n",
       "      <td>182</td>\n",
       "      <td>sub-60006</td>\n",
       "      <td>BIPOLAR</td>\n",
       "      <td>22</td>\n",
       "      <td>M</td>\n",
       "      <td>1.0</td>\n",
       "      <td>1.0</td>\n",
       "      <td>1.0</td>\n",
       "      <td>NaN</td>\n",
       "      <td>NaN</td>\n",
       "      <td>1.0</td>\n",
       "      <td>1.0</td>\n",
       "      <td>1.0</td>\n",
       "      <td>1.0</td>\n",
       "      <td>1.0</td>\n",
       "      <td>35343.0</td>\n",
       "      <td>ghost</td>\n",
       "    </tr>\n",
       "    <tr>\n",
       "      <td>183</td>\n",
       "      <td>sub-60008</td>\n",
       "      <td>BIPOLAR</td>\n",
       "      <td>36</td>\n",
       "      <td>F</td>\n",
       "      <td>1.0</td>\n",
       "      <td>1.0</td>\n",
       "      <td>1.0</td>\n",
       "      <td>NaN</td>\n",
       "      <td>NaN</td>\n",
       "      <td>1.0</td>\n",
       "      <td>1.0</td>\n",
       "      <td>1.0</td>\n",
       "      <td>1.0</td>\n",
       "      <td>1.0</td>\n",
       "      <td>35343.0</td>\n",
       "      <td>No_ghost</td>\n",
       "    </tr>\n",
       "    <tr>\n",
       "      <td>184</td>\n",
       "      <td>sub-60010</td>\n",
       "      <td>BIPOLAR</td>\n",
       "      <td>40</td>\n",
       "      <td>M</td>\n",
       "      <td>1.0</td>\n",
       "      <td>1.0</td>\n",
       "      <td>1.0</td>\n",
       "      <td>1.0</td>\n",
       "      <td>1.0</td>\n",
       "      <td>1.0</td>\n",
       "      <td>1.0</td>\n",
       "      <td>1.0</td>\n",
       "      <td>1.0</td>\n",
       "      <td>1.0</td>\n",
       "      <td>35343.0</td>\n",
       "      <td>ghost</td>\n",
       "    </tr>\n",
       "    <tr>\n",
       "      <td>185</td>\n",
       "      <td>sub-60011</td>\n",
       "      <td>BIPOLAR</td>\n",
       "      <td>31</td>\n",
       "      <td>M</td>\n",
       "      <td>1.0</td>\n",
       "      <td>1.0</td>\n",
       "      <td>1.0</td>\n",
       "      <td>1.0</td>\n",
       "      <td>1.0</td>\n",
       "      <td>1.0</td>\n",
       "      <td>1.0</td>\n",
       "      <td>1.0</td>\n",
       "      <td>1.0</td>\n",
       "      <td>1.0</td>\n",
       "      <td>35343.0</td>\n",
       "      <td>No_ghost</td>\n",
       "    </tr>\n",
       "  </tbody>\n",
       "</table>\n",
       "</div>"
      ],
      "text/plain": [
       "    participant_id diagnosis  age gender  bart  bht  dwi  pamenc  pamret  \\\n",
       "181      sub-60005   BIPOLAR   50      F   1.0  1.0  1.0     1.0     1.0   \n",
       "182      sub-60006   BIPOLAR   22      M   1.0  1.0  1.0     NaN     NaN   \n",
       "183      sub-60008   BIPOLAR   36      F   1.0  1.0  1.0     NaN     NaN   \n",
       "184      sub-60010   BIPOLAR   40      M   1.0  1.0  1.0     1.0     1.0   \n",
       "185      sub-60011   BIPOLAR   31      M   1.0  1.0  1.0     1.0     1.0   \n",
       "\n",
       "     rest  scap  stopsignal  T1w  taskswitch  ScannerSerialNumber  \\\n",
       "181   1.0   1.0         1.0  1.0         1.0              35343.0   \n",
       "182   1.0   1.0         1.0  1.0         1.0              35343.0   \n",
       "183   1.0   1.0         1.0  1.0         1.0              35343.0   \n",
       "184   1.0   1.0         1.0  1.0         1.0              35343.0   \n",
       "185   1.0   1.0         1.0  1.0         1.0              35343.0   \n",
       "\n",
       "    ghost_NoGhost  \n",
       "181      No_ghost  \n",
       "182         ghost  \n",
       "183      No_ghost  \n",
       "184         ghost  \n",
       "185      No_ghost  "
      ]
     },
     "execution_count": 42,
     "metadata": {},
     "output_type": "execute_result"
    }
   ],
   "source": [
    "#Bipolar Patients Data\n",
    "p[(p['diagnosis']=='BIPOLAR') & (p['bart']==1.0) & (p['scap']==1.0) & (p['stopsignal']==1.0) & (p['taskswitch']==1.0) & p['bht']==1.0].count()\n",
    "#there are 47 schizo participants where they have all behavioral tests.\n",
    "bip_patients = p[(p['diagnosis']=='BIPOLAR') & (p['bart']==1.0) & (p['scap']==1.0) & (p['stopsignal']==1.0) & (p['taskswitch']==1.0) & p['bht']==1.0]\n",
    "#these are the schizo patients with full sets of behavioral data.\n",
    "bip_patients.head()"
   ]
  },
  {
   "cell_type": "code",
   "execution_count": 317,
   "metadata": {},
   "outputs": [],
   "source": [
    "#list of bipolar patients ID for use\n",
    "list_of_bippatient_id = list(bip_patients['participant_id'])\n",
    "#list_of_bippatient_id"
   ]
  },
  {
   "cell_type": "markdown",
   "metadata": {},
   "source": [
    "### Controls Data"
   ]
  },
  {
   "cell_type": "code",
   "execution_count": 25,
   "metadata": {},
   "outputs": [
    {
     "data": {
      "text/html": [
       "<div>\n",
       "<style scoped>\n",
       "    .dataframe tbody tr th:only-of-type {\n",
       "        vertical-align: middle;\n",
       "    }\n",
       "\n",
       "    .dataframe tbody tr th {\n",
       "        vertical-align: top;\n",
       "    }\n",
       "\n",
       "    .dataframe thead th {\n",
       "        text-align: right;\n",
       "    }\n",
       "</style>\n",
       "<table border=\"1\" class=\"dataframe\">\n",
       "  <thead>\n",
       "    <tr style=\"text-align: right;\">\n",
       "      <th></th>\n",
       "      <th>participant_id</th>\n",
       "      <th>diagnosis</th>\n",
       "      <th>age</th>\n",
       "      <th>gender</th>\n",
       "      <th>bart</th>\n",
       "      <th>bht</th>\n",
       "      <th>dwi</th>\n",
       "      <th>pamenc</th>\n",
       "      <th>pamret</th>\n",
       "      <th>rest</th>\n",
       "      <th>scap</th>\n",
       "      <th>stopsignal</th>\n",
       "      <th>T1w</th>\n",
       "      <th>taskswitch</th>\n",
       "      <th>ScannerSerialNumber</th>\n",
       "      <th>ghost_NoGhost</th>\n",
       "    </tr>\n",
       "  </thead>\n",
       "  <tbody>\n",
       "    <tr>\n",
       "      <td>1</td>\n",
       "      <td>sub-10171</td>\n",
       "      <td>CONTROL</td>\n",
       "      <td>24</td>\n",
       "      <td>M</td>\n",
       "      <td>1.0</td>\n",
       "      <td>1.0</td>\n",
       "      <td>1.0</td>\n",
       "      <td>NaN</td>\n",
       "      <td>NaN</td>\n",
       "      <td>1.0</td>\n",
       "      <td>1.0</td>\n",
       "      <td>1.0</td>\n",
       "      <td>1.0</td>\n",
       "      <td>1.0</td>\n",
       "      <td>35343.0</td>\n",
       "      <td>No_ghost</td>\n",
       "    </tr>\n",
       "    <tr>\n",
       "      <td>6</td>\n",
       "      <td>sub-10225</td>\n",
       "      <td>CONTROL</td>\n",
       "      <td>35</td>\n",
       "      <td>M</td>\n",
       "      <td>1.0</td>\n",
       "      <td>1.0</td>\n",
       "      <td>1.0</td>\n",
       "      <td>NaN</td>\n",
       "      <td>NaN</td>\n",
       "      <td>1.0</td>\n",
       "      <td>1.0</td>\n",
       "      <td>1.0</td>\n",
       "      <td>1.0</td>\n",
       "      <td>1.0</td>\n",
       "      <td>35343.0</td>\n",
       "      <td>No_ghost</td>\n",
       "    </tr>\n",
       "    <tr>\n",
       "      <td>8</td>\n",
       "      <td>sub-10228</td>\n",
       "      <td>CONTROL</td>\n",
       "      <td>40</td>\n",
       "      <td>F</td>\n",
       "      <td>1.0</td>\n",
       "      <td>1.0</td>\n",
       "      <td>1.0</td>\n",
       "      <td>NaN</td>\n",
       "      <td>NaN</td>\n",
       "      <td>1.0</td>\n",
       "      <td>1.0</td>\n",
       "      <td>1.0</td>\n",
       "      <td>1.0</td>\n",
       "      <td>1.0</td>\n",
       "      <td>35343.0</td>\n",
       "      <td>No_ghost</td>\n",
       "    </tr>\n",
       "    <tr>\n",
       "      <td>10</td>\n",
       "      <td>sub-10249</td>\n",
       "      <td>CONTROL</td>\n",
       "      <td>28</td>\n",
       "      <td>M</td>\n",
       "      <td>1.0</td>\n",
       "      <td>1.0</td>\n",
       "      <td>1.0</td>\n",
       "      <td>NaN</td>\n",
       "      <td>NaN</td>\n",
       "      <td>1.0</td>\n",
       "      <td>1.0</td>\n",
       "      <td>1.0</td>\n",
       "      <td>1.0</td>\n",
       "      <td>1.0</td>\n",
       "      <td>35343.0</td>\n",
       "      <td>No_ghost</td>\n",
       "    </tr>\n",
       "    <tr>\n",
       "      <td>12</td>\n",
       "      <td>sub-10271</td>\n",
       "      <td>CONTROL</td>\n",
       "      <td>41</td>\n",
       "      <td>F</td>\n",
       "      <td>1.0</td>\n",
       "      <td>1.0</td>\n",
       "      <td>1.0</td>\n",
       "      <td>NaN</td>\n",
       "      <td>NaN</td>\n",
       "      <td>1.0</td>\n",
       "      <td>1.0</td>\n",
       "      <td>1.0</td>\n",
       "      <td>1.0</td>\n",
       "      <td>1.0</td>\n",
       "      <td>35343.0</td>\n",
       "      <td>No_ghost</td>\n",
       "    </tr>\n",
       "  </tbody>\n",
       "</table>\n",
       "</div>"
      ],
      "text/plain": [
       "   participant_id diagnosis  age gender  bart  bht  dwi  pamenc  pamret  rest  \\\n",
       "1       sub-10171   CONTROL   24      M   1.0  1.0  1.0     NaN     NaN   1.0   \n",
       "6       sub-10225   CONTROL   35      M   1.0  1.0  1.0     NaN     NaN   1.0   \n",
       "8       sub-10228   CONTROL   40      F   1.0  1.0  1.0     NaN     NaN   1.0   \n",
       "10      sub-10249   CONTROL   28      M   1.0  1.0  1.0     NaN     NaN   1.0   \n",
       "12      sub-10271   CONTROL   41      F   1.0  1.0  1.0     NaN     NaN   1.0   \n",
       "\n",
       "    scap  stopsignal  T1w  taskswitch  ScannerSerialNumber ghost_NoGhost  \n",
       "1    1.0         1.0  1.0         1.0              35343.0      No_ghost  \n",
       "6    1.0         1.0  1.0         1.0              35343.0      No_ghost  \n",
       "8    1.0         1.0  1.0         1.0              35343.0      No_ghost  \n",
       "10   1.0         1.0  1.0         1.0              35343.0      No_ghost  \n",
       "12   1.0         1.0  1.0         1.0              35343.0      No_ghost  "
      ]
     },
     "execution_count": 25,
     "metadata": {},
     "output_type": "execute_result"
    }
   ],
   "source": [
    "#Controls Data\n",
    "p[(p['diagnosis']=='CONTROL') & (p['bart']==1.0) & (p['scap']==1.0) & (p['stopsignal']==1.0) & (p['taskswitch']==1.0) & p['bht']==1.0].count()\n",
    "#there are 111 controls where they have all behavioral tests\n",
    "controls = p[(p['diagnosis']=='CONTROL') & (p['bart']==1.0) & (p['scap']==1.0) & (p['stopsignal']==1.0) & (p['taskswitch']==1.0) & p['bht']==1.0]\n",
    "#these are the controls with the full sets of behavioral data\n",
    "controls.head()"
   ]
  },
  {
   "cell_type": "code",
   "execution_count": 47,
   "metadata": {},
   "outputs": [],
   "source": [
    "#list of controls ID for use\n",
    "list_of_controls_id = list(controls['participant_id'])\n",
    "#list_of_controls_id"
   ]
  },
  {
   "cell_type": "markdown",
   "metadata": {},
   "source": [
    "# BART Data "
   ]
  },
  {
   "cell_type": "markdown",
   "metadata": {},
   "source": [
    "## BartScore Function"
   ]
  },
  {
   "cell_type": "code",
   "execution_count": 54,
   "metadata": {},
   "outputs": [],
   "source": [
    "def bart_score(bart):\n",
    "    unexploded_trial_no = bart[(bart['trial_type']=='BALOON') & (bart['action']=='CASHOUT')]['trial_number']\n",
    "    unexploded_trials = bart[(bart['trial_type']=='BALOON') & (bart.trial_number.isin(list(unexploded_trial_no)))]\n",
    "    total_pumps = unexploded_trials[unexploded_trials['action']!='CASHOUT'].count()\n",
    "    score = total_pumps[0]/unexploded_trial_no.count()\n",
    "    return round(score,2)"
   ]
  },
  {
   "cell_type": "markdown",
   "metadata": {},
   "source": [
    "## Bipolar Bart Scores"
   ]
  },
  {
   "cell_type": "code",
   "execution_count": 230,
   "metadata": {},
   "outputs": [],
   "source": [
    "import os\n",
    "path = '/Users/sarahting/desktop/bart/Bipolar/'\n",
    "filenames = [path + filename for filename in os.listdir(path)]"
   ]
  },
  {
   "cell_type": "code",
   "execution_count": 231,
   "metadata": {},
   "outputs": [],
   "source": [
    "def bart_score(filepath):\n",
    "    bart = pd.read_csv(filepath,sep='\\t')\n",
    "    unexploded_trial_no = bart[(bart['trial_type']=='BALOON') & (bart['action']=='CASHOUT')]['trial_number']\n",
    "    unexploded_trials = bart[(bart['trial_type']=='BALOON') & (bart.trial_number.isin(list(unexploded_trial_no)))]\n",
    "    total_pumps = unexploded_trials[unexploded_trials['action']!='CASHOUT'].count()\n",
    "    score = total_pumps[0]/unexploded_trial_no.count()\n",
    "    return round(score,2)"
   ]
  },
  {
   "cell_type": "markdown",
   "metadata": {},
   "source": [
    "reason why I have to use endswith('.tsv')\n",
    "bart_score('/Users/sarahting/desktop/bart/Test/.DS_Store') doesn't read"
   ]
  },
  {
   "cell_type": "code",
   "execution_count": 237,
   "metadata": {},
   "outputs": [],
   "source": [
    "#Storing Bipolar Bart Scores\n",
    "bart_bp_scores = []\n",
    "for filepath in filenames:\n",
    "    if filepath.endswith('.tsv'):\n",
    "        bart_bp_scores.append(bart_score(filepath))"
   ]
  },
  {
   "cell_type": "markdown",
   "metadata": {},
   "source": [
    "## Schizp Bart Scores"
   ]
  },
  {
   "cell_type": "code",
   "execution_count": 238,
   "metadata": {},
   "outputs": [],
   "source": [
    "import os\n",
    "path = '/Users/sarahting/desktop/bart/SCHIZ/'\n",
    "filenames = [path + filename for filename in os.listdir(path)]"
   ]
  },
  {
   "cell_type": "code",
   "execution_count": 239,
   "metadata": {},
   "outputs": [],
   "source": [
    "def bart_score(filepath):\n",
    "    bart = pd.read_csv(filepath,sep='\\t')\n",
    "    unexploded_trial_no = bart[(bart['trial_type']=='BALOON') & (bart['action']=='CASHOUT')]['trial_number']\n",
    "    unexploded_trials = bart[(bart['trial_type']=='BALOON') & (bart.trial_number.isin(list(unexploded_trial_no)))]\n",
    "    total_pumps = unexploded_trials[unexploded_trials['action']!='CASHOUT'].count()\n",
    "    score = total_pumps[0]/unexploded_trial_no.count()\n",
    "    return round(score,2)"
   ]
  },
  {
   "cell_type": "code",
   "execution_count": 242,
   "metadata": {},
   "outputs": [
    {
     "name": "stderr",
     "output_type": "stream",
     "text": [
      "/Users/sarahting/opt/anaconda3/lib/python3.7/site-packages/ipykernel_launcher.py:6: RuntimeWarning: invalid value encountered in long_scalars\n",
      "  \n"
     ]
    }
   ],
   "source": [
    "#Storing Schizo Bart Scores\n",
    "bart_schiz_scores = []\n",
    "for filepath in filenames:\n",
    "    if filepath.endswith('.tsv'):\n",
    "        bart_schiz_scores.append(bart_score(filepath))"
   ]
  },
  {
   "cell_type": "markdown",
   "metadata": {},
   "source": [
    "## Control Bart Scores"
   ]
  },
  {
   "cell_type": "code",
   "execution_count": 243,
   "metadata": {},
   "outputs": [],
   "source": [
    "import os\n",
    "path = '/Users/sarahting/desktop/bart/Control/'\n",
    "filenames = [path + filename for filename in os.listdir(path)]"
   ]
  },
  {
   "cell_type": "code",
   "execution_count": 244,
   "metadata": {},
   "outputs": [],
   "source": [
    "def bart_score(filepath):\n",
    "    bart = pd.read_csv(filepath,sep='\\t')\n",
    "    unexploded_trial_no = bart[(bart['trial_type']=='BALOON') & (bart['action']=='CASHOUT')]['trial_number']\n",
    "    unexploded_trials = bart[(bart['trial_type']=='BALOON') & (bart.trial_number.isin(list(unexploded_trial_no)))]\n",
    "    total_pumps = unexploded_trials[unexploded_trials['action']!='CASHOUT'].count()\n",
    "    score = total_pumps[0]/unexploded_trial_no.count()\n",
    "    return round(score,2)"
   ]
  },
  {
   "cell_type": "code",
   "execution_count": 245,
   "metadata": {},
   "outputs": [],
   "source": [
    "#Storing Control Bart Scores\n",
    "bart_con_scores = []\n",
    "for filepath in filenames:\n",
    "    if filepath.endswith('.tsv'):\n",
    "        bart_con_scores.append(bart_score(filepath))"
   ]
  },
  {
   "cell_type": "markdown",
   "metadata": {},
   "source": [
    "## Putting bart scores into dataframe and explore"
   ]
  },
  {
   "cell_type": "code",
   "execution_count": 269,
   "metadata": {},
   "outputs": [],
   "source": [
    "bart_df = pd.DataFrame(data=[bart_bp_scores,bart_schiz_scores,bart_con_scores])\n",
    "bart_df = bart_df.T\n",
    "bart_df.columns = ['Bipolar','Schiz','Control']"
   ]
  },
  {
   "cell_type": "code",
   "execution_count": 268,
   "metadata": {},
   "outputs": [
    {
     "data": {
      "text/plain": [
       "Bipolar    4.286809\n",
       "Schiz      3.512500\n",
       "Control    4.498600\n",
       "dtype: float64"
      ]
     },
     "execution_count": 268,
     "metadata": {},
     "output_type": "execute_result"
    }
   ],
   "source": [
    "bart_df.mean()"
   ]
  },
  {
   "cell_type": "code",
   "execution_count": null,
   "metadata": {},
   "outputs": [],
   "source": []
  },
  {
   "cell_type": "code",
   "execution_count": 251,
   "metadata": {},
   "outputs": [],
   "source": [
    "import matplotlib.pyplot as plt\n",
    "%matplotlib inline\n",
    "import seaborn as sns"
   ]
  },
  {
   "cell_type": "code",
   "execution_count": 272,
   "metadata": {},
   "outputs": [
    {
     "data": {
      "image/png": "[encoded data removed]",
      "text/plain": [
       "<Figure size 432x288 with 1 Axes>"
      ]
     },
     "metadata": {
      "needs_background": "light"
     },
     "output_type": "display_data"
    }
   ],
   "source": [
    "bart_df['Bipolar'].hist();"
   ]
  },
  {
   "cell_type": "code",
   "execution_count": 275,
   "metadata": {},
   "outputs": [
    {
     "data": {
      "image/png": "[encoded data removed]",
      "text/plain": [
       "<Figure size 432x288 with 1 Axes>"
      ]
     },
     "metadata": {
      "needs_background": "light"
     },
     "output_type": "display_data"
    }
   ],
   "source": [
    "bart_df['Schiz'].hist();"
   ]
  },
  {
   "cell_type": "code",
   "execution_count": 278,
   "metadata": {},
   "outputs": [
    {
     "data": {
      "image/png": "[encoded data removed]",
      "text/plain": [
       "<Figure size 432x288 with 1 Axes>"
      ]
     },
     "metadata": {
      "needs_background": "light"
     },
     "output_type": "display_data"
    }
   ],
   "source": [
    "bart_df['Control'].hist();"
   ]
  },
  {
   "cell_type": "code",
   "execution_count": null,
   "metadata": {},
   "outputs": [],
   "source": []
  },
  {
   "cell_type": "markdown",
   "metadata": {},
   "source": [
    "# Scap Data"
   ]
  },
  {
   "cell_type": "code",
   "execution_count": 287,
   "metadata": {},
   "outputs": [
    {
     "data": {
      "text/html": [
       "<div>\n",
       "<style scoped>\n",
       "    .dataframe tbody tr th:only-of-type {\n",
       "        vertical-align: middle;\n",
       "    }\n",
       "\n",
       "    .dataframe tbody tr th {\n",
       "        vertical-align: top;\n",
       "    }\n",
       "\n",
       "    .dataframe thead th {\n",
       "        text-align: right;\n",
       "    }\n",
       "</style>\n",
       "<table border=\"1\" class=\"dataframe\">\n",
       "  <thead>\n",
       "    <tr style=\"text-align: right;\">\n",
       "      <th></th>\n",
       "      <th>onset</th>\n",
       "      <th>duration</th>\n",
       "      <th>trial_type</th>\n",
       "      <th>Load</th>\n",
       "      <th>Delay</th>\n",
       "      <th>ReactionTime</th>\n",
       "      <th>ResponseAccuracy</th>\n",
       "      <th>ExpectedResponse</th>\n",
       "      <th>ButtonPressCode</th>\n",
       "      <th>PresentationInterval</th>\n",
       "      <th>ResponseInterval</th>\n",
       "      <th>onset_noTriggerAdjust</th>\n",
       "    </tr>\n",
       "  </thead>\n",
       "  <tbody>\n",
       "    <tr>\n",
       "      <td>0</td>\n",
       "      <td>0.015812</td>\n",
       "      <td>9.497983</td>\n",
       "      <td>6</td>\n",
       "      <td>3</td>\n",
       "      <td>4.5</td>\n",
       "      <td>1.507683</td>\n",
       "      <td>CORRECT</td>\n",
       "      <td>2</td>\n",
       "      <td>28</td>\n",
       "      <td>2.002251</td>\n",
       "      <td>2.994961</td>\n",
       "      <td>0.015812</td>\n",
       "    </tr>\n",
       "    <tr>\n",
       "      <td>1</td>\n",
       "      <td>11.515971</td>\n",
       "      <td>8.008657</td>\n",
       "      <td>8</td>\n",
       "      <td>5</td>\n",
       "      <td>3.0</td>\n",
       "      <td>1.122761</td>\n",
       "      <td>CORRECT</td>\n",
       "      <td>1</td>\n",
       "      <td>5</td>\n",
       "      <td>2.002198</td>\n",
       "      <td>3.011497</td>\n",
       "      <td>11.515971</td>\n",
       "    </tr>\n",
       "    <tr>\n",
       "      <td>2</td>\n",
       "      <td>21.510252</td>\n",
       "      <td>8.008738</td>\n",
       "      <td>2</td>\n",
       "      <td>1</td>\n",
       "      <td>3.0</td>\n",
       "      <td>0.986321</td>\n",
       "      <td>CORRECT</td>\n",
       "      <td>1</td>\n",
       "      <td>5</td>\n",
       "      <td>2.002216</td>\n",
       "      <td>2.995093</td>\n",
       "      <td>21.510252</td>\n",
       "    </tr>\n",
       "    <tr>\n",
       "      <td>3</td>\n",
       "      <td>31.521116</td>\n",
       "      <td>7.992156</td>\n",
       "      <td>5</td>\n",
       "      <td>3</td>\n",
       "      <td>3.0</td>\n",
       "      <td>0.986654</td>\n",
       "      <td>CORRECT</td>\n",
       "      <td>2</td>\n",
       "      <td>28</td>\n",
       "      <td>2.002142</td>\n",
       "      <td>2.994992</td>\n",
       "      <td>31.521116</td>\n",
       "    </tr>\n",
       "    <tr>\n",
       "      <td>4</td>\n",
       "      <td>43.517612</td>\n",
       "      <td>9.497949</td>\n",
       "      <td>3</td>\n",
       "      <td>1</td>\n",
       "      <td>4.5</td>\n",
       "      <td>0.884906</td>\n",
       "      <td>CORRECT</td>\n",
       "      <td>1</td>\n",
       "      <td>5</td>\n",
       "      <td>1.985638</td>\n",
       "      <td>2.995035</td>\n",
       "      <td>43.517612</td>\n",
       "    </tr>\n",
       "  </tbody>\n",
       "</table>\n",
       "</div>"
      ],
      "text/plain": [
       "       onset  duration  trial_type  Load  Delay  ReactionTime  \\\n",
       "0   0.015812  9.497983           6     3    4.5      1.507683   \n",
       "1  11.515971  8.008657           8     5    3.0      1.122761   \n",
       "2  21.510252  8.008738           2     1    3.0      0.986321   \n",
       "3  31.521116  7.992156           5     3    3.0      0.986654   \n",
       "4  43.517612  9.497949           3     1    4.5      0.884906   \n",
       "\n",
       "  ResponseAccuracy  ExpectedResponse  ButtonPressCode  PresentationInterval  \\\n",
       "0          CORRECT                 2               28              2.002251   \n",
       "1          CORRECT                 1                5              2.002198   \n",
       "2          CORRECT                 1                5              2.002216   \n",
       "3          CORRECT                 2               28              2.002142   \n",
       "4          CORRECT                 1                5              1.985638   \n",
       "\n",
       "   ResponseInterval  onset_noTriggerAdjust  \n",
       "0          2.994961               0.015812  \n",
       "1          3.011497              11.515971  \n",
       "2          2.995093              21.510252  \n",
       "3          2.994992              31.521116  \n",
       "4          2.995035              43.517612  "
      ]
     },
     "execution_count": 287,
     "metadata": {},
     "output_type": "execute_result"
    }
   ],
   "source": [
    "scap = pd.read_csv(\"/Users/sarahting/desktop/sub-10159_func_sub-10159_task-scap_events.tsv\",sep='\\t')\n",
    "scap.head()"
   ]
  },
  {
   "cell_type": "code",
   "execution_count": 289,
   "metadata": {},
   "outputs": [
    {
     "data": {
      "text/plain": [
       "onset                    29\n",
       "duration                 29\n",
       "trial_type               29\n",
       "Load                     29\n",
       "Delay                    29\n",
       "ReactionTime             29\n",
       "ResponseAccuracy         29\n",
       "ExpectedResponse         29\n",
       "ButtonPressCode          29\n",
       "PresentationInterval     29\n",
       "ResponseInterval         29\n",
       "onset_noTriggerAdjust    29\n",
       "dtype: int64"
      ]
     },
     "execution_count": 289,
     "metadata": {},
     "output_type": "execute_result"
    }
   ],
   "source": [
    "scap[scap['ResponseAccuracy']=='CORRECT'].count()"
   ]
  },
  {
   "cell_type": "code",
   "execution_count": 290,
   "metadata": {},
   "outputs": [
    {
     "data": {
      "text/plain": [
       "onset                    48\n",
       "duration                 48\n",
       "trial_type               48\n",
       "Load                     48\n",
       "Delay                    48\n",
       "ReactionTime             48\n",
       "ResponseAccuracy         48\n",
       "ExpectedResponse         48\n",
       "ButtonPressCode          48\n",
       "PresentationInterval     48\n",
       "ResponseInterval         48\n",
       "onset_noTriggerAdjust    48\n",
       "dtype: int64"
      ]
     },
     "execution_count": 290,
     "metadata": {},
     "output_type": "execute_result"
    }
   ],
   "source": [
    "scap.count()"
   ]
  },
  {
   "cell_type": "code",
   "execution_count": 301,
   "metadata": {},
   "outputs": [
    {
     "data": {
      "text/plain": [
       "0.6041666666666666"
      ]
     },
     "execution_count": 301,
     "metadata": {},
     "output_type": "execute_result"
    }
   ],
   "source": [
    "score  = 29/48\n",
    "score"
   ]
  },
  {
   "cell_type": "code",
   "execution_count": 296,
   "metadata": {},
   "outputs": [
    {
     "data": {
      "text/html": [
       "<div>\n",
       "<style scoped>\n",
       "    .dataframe tbody tr th:only-of-type {\n",
       "        vertical-align: middle;\n",
       "    }\n",
       "\n",
       "    .dataframe tbody tr th {\n",
       "        vertical-align: top;\n",
       "    }\n",
       "\n",
       "    .dataframe thead th {\n",
       "        text-align: right;\n",
       "    }\n",
       "</style>\n",
       "<table border=\"1\" class=\"dataframe\">\n",
       "  <thead>\n",
       "    <tr style=\"text-align: right;\">\n",
       "      <th></th>\n",
       "      <th>onset</th>\n",
       "      <th>duration</th>\n",
       "      <th>trial_type</th>\n",
       "      <th>Load</th>\n",
       "      <th>Delay</th>\n",
       "      <th>ReactionTime</th>\n",
       "      <th>ResponseAccuracy</th>\n",
       "      <th>ExpectedResponse</th>\n",
       "      <th>ButtonPressCode</th>\n",
       "      <th>PresentationInterval</th>\n",
       "      <th>ResponseInterval</th>\n",
       "      <th>onset_noTriggerAdjust</th>\n",
       "    </tr>\n",
       "  </thead>\n",
       "  <tbody>\n",
       "    <tr>\n",
       "      <td>0</td>\n",
       "      <td>0.031158</td>\n",
       "      <td>9.483233</td>\n",
       "      <td>6</td>\n",
       "      <td>3</td>\n",
       "      <td>4.5</td>\n",
       "      <td>0.875419</td>\n",
       "      <td>CORRECT</td>\n",
       "      <td>2</td>\n",
       "      <td>28.0</td>\n",
       "      <td>1.989473</td>\n",
       "      <td>3.000811</td>\n",
       "      <td>0.031158</td>\n",
       "    </tr>\n",
       "    <tr>\n",
       "      <td>1</td>\n",
       "      <td>11.520492</td>\n",
       "      <td>7.991202</td>\n",
       "      <td>8</td>\n",
       "      <td>5</td>\n",
       "      <td>3.0</td>\n",
       "      <td>0.827391</td>\n",
       "      <td>INCORRECT</td>\n",
       "      <td>1</td>\n",
       "      <td>28.0</td>\n",
       "      <td>1.989538</td>\n",
       "      <td>3.000739</td>\n",
       "      <td>11.520492</td>\n",
       "    </tr>\n",
       "    <tr>\n",
       "      <td>2</td>\n",
       "      <td>21.517729</td>\n",
       "      <td>8.007763</td>\n",
       "      <td>2</td>\n",
       "      <td>1</td>\n",
       "      <td>3.0</td>\n",
       "      <td>0.771655</td>\n",
       "      <td>CORRECT</td>\n",
       "      <td>1</td>\n",
       "      <td>5.0</td>\n",
       "      <td>2.006159</td>\n",
       "      <td>3.017437</td>\n",
       "      <td>21.517729</td>\n",
       "    </tr>\n",
       "    <tr>\n",
       "      <td>3</td>\n",
       "      <td>31.515000</td>\n",
       "      <td>8.007769</td>\n",
       "      <td>5</td>\n",
       "      <td>3</td>\n",
       "      <td>3.0</td>\n",
       "      <td>0.956278</td>\n",
       "      <td>INCORRECT</td>\n",
       "      <td>2</td>\n",
       "      <td>5.0</td>\n",
       "      <td>2.006141</td>\n",
       "      <td>3.000761</td>\n",
       "      <td>31.515000</td>\n",
       "    </tr>\n",
       "    <tr>\n",
       "      <td>4</td>\n",
       "      <td>43.518394</td>\n",
       "      <td>9.499813</td>\n",
       "      <td>3</td>\n",
       "      <td>1</td>\n",
       "      <td>4.5</td>\n",
       "      <td>0.909295</td>\n",
       "      <td>CORRECT</td>\n",
       "      <td>1</td>\n",
       "      <td>5.0</td>\n",
       "      <td>1.989520</td>\n",
       "      <td>3.000821</td>\n",
       "      <td>43.518394</td>\n",
       "    </tr>\n",
       "  </tbody>\n",
       "</table>\n",
       "</div>"
      ],
      "text/plain": [
       "       onset  duration  trial_type  Load  Delay  ReactionTime  \\\n",
       "0   0.031158  9.483233           6     3    4.5      0.875419   \n",
       "1  11.520492  7.991202           8     5    3.0      0.827391   \n",
       "2  21.517729  8.007763           2     1    3.0      0.771655   \n",
       "3  31.515000  8.007769           5     3    3.0      0.956278   \n",
       "4  43.518394  9.499813           3     1    4.5      0.909295   \n",
       "\n",
       "  ResponseAccuracy  ExpectedResponse  ButtonPressCode  PresentationInterval  \\\n",
       "0          CORRECT                 2             28.0              1.989473   \n",
       "1        INCORRECT                 1             28.0              1.989538   \n",
       "2          CORRECT                 1              5.0              2.006159   \n",
       "3        INCORRECT                 2              5.0              2.006141   \n",
       "4          CORRECT                 1              5.0              1.989520   \n",
       "\n",
       "   ResponseInterval  onset_noTriggerAdjust  \n",
       "0          3.000811               0.031158  \n",
       "1          3.000739              11.520492  \n",
       "2          3.017437              21.517729  \n",
       "3          3.000761              31.515000  \n",
       "4          3.000821              43.518394  "
      ]
     },
     "execution_count": 296,
     "metadata": {},
     "output_type": "execute_result"
    }
   ],
   "source": [
    "scap_sch = pd.read_csv(\"/Users/sarahting/desktop/sub-50004_func_sub-50004_task-scap_events.tsv\",sep='\\t')\n",
    "scap_sch.head()"
   ]
  },
  {
   "cell_type": "code",
   "execution_count": 297,
   "metadata": {},
   "outputs": [
    {
     "data": {
      "text/plain": [
       "onset                    19\n",
       "duration                 19\n",
       "trial_type               19\n",
       "Load                     19\n",
       "Delay                    19\n",
       "ReactionTime             19\n",
       "ResponseAccuracy         19\n",
       "ExpectedResponse         19\n",
       "ButtonPressCode          19\n",
       "PresentationInterval     19\n",
       "ResponseInterval         19\n",
       "onset_noTriggerAdjust    19\n",
       "dtype: int64"
      ]
     },
     "execution_count": 297,
     "metadata": {},
     "output_type": "execute_result"
    }
   ],
   "source": [
    "scap_sch[scap_sch['ResponseAccuracy']=='CORRECT'].count()"
   ]
  },
  {
   "cell_type": "code",
   "execution_count": 298,
   "metadata": {},
   "outputs": [
    {
     "data": {
      "text/plain": [
       "onset                    48\n",
       "duration                 48\n",
       "trial_type               48\n",
       "Load                     48\n",
       "Delay                    48\n",
       "ReactionTime             32\n",
       "ResponseAccuracy         48\n",
       "ExpectedResponse         48\n",
       "ButtonPressCode          32\n",
       "PresentationInterval     48\n",
       "ResponseInterval         48\n",
       "onset_noTriggerAdjust    48\n",
       "dtype: int64"
      ]
     },
     "execution_count": 298,
     "metadata": {},
     "output_type": "execute_result"
    }
   ],
   "source": [
    "scap_sch.count()"
   ]
  },
  {
   "cell_type": "code",
   "execution_count": 300,
   "metadata": {},
   "outputs": [
    {
     "data": {
      "text/plain": [
       "0.3958333333333333"
      ]
     },
     "execution_count": 300,
     "metadata": {},
     "output_type": "execute_result"
    }
   ],
   "source": [
    "score = 19/48\n",
    "score"
   ]
  },
  {
   "cell_type": "code",
   "execution_count": 303,
   "metadata": {},
   "outputs": [
    {
     "data": {
      "text/html": [
       "<div>\n",
       "<style scoped>\n",
       "    .dataframe tbody tr th:only-of-type {\n",
       "        vertical-align: middle;\n",
       "    }\n",
       "\n",
       "    .dataframe tbody tr th {\n",
       "        vertical-align: top;\n",
       "    }\n",
       "\n",
       "    .dataframe thead th {\n",
       "        text-align: right;\n",
       "    }\n",
       "</style>\n",
       "<table border=\"1\" class=\"dataframe\">\n",
       "  <thead>\n",
       "    <tr style=\"text-align: right;\">\n",
       "      <th></th>\n",
       "      <th>onset</th>\n",
       "      <th>duration</th>\n",
       "      <th>trial_type</th>\n",
       "      <th>Load</th>\n",
       "      <th>Delay</th>\n",
       "      <th>ReactionTime</th>\n",
       "      <th>ResponseAccuracy</th>\n",
       "      <th>ExpectedResponse</th>\n",
       "      <th>ButtonPressCode</th>\n",
       "      <th>PresentationInterval</th>\n",
       "      <th>ResponseInterval</th>\n",
       "      <th>onset_noTriggerAdjust</th>\n",
       "    </tr>\n",
       "  </thead>\n",
       "  <tbody>\n",
       "    <tr>\n",
       "      <td>0</td>\n",
       "      <td>0.032381</td>\n",
       "      <td>9.481434</td>\n",
       "      <td>6</td>\n",
       "      <td>3</td>\n",
       "      <td>4.5</td>\n",
       "      <td>1.094036</td>\n",
       "      <td>CORRECT</td>\n",
       "      <td>2</td>\n",
       "      <td>28</td>\n",
       "      <td>1.985665</td>\n",
       "      <td>2.995012</td>\n",
       "      <td>0.032381</td>\n",
       "    </tr>\n",
       "    <tr>\n",
       "      <td>1</td>\n",
       "      <td>11.515977</td>\n",
       "      <td>7.992216</td>\n",
       "      <td>8</td>\n",
       "      <td>5</td>\n",
       "      <td>3.0</td>\n",
       "      <td>0.778527</td>\n",
       "      <td>INCORRECT</td>\n",
       "      <td>1</td>\n",
       "      <td>28</td>\n",
       "      <td>2.002147</td>\n",
       "      <td>2.995060</td>\n",
       "      <td>11.515977</td>\n",
       "    </tr>\n",
       "    <tr>\n",
       "      <td>2</td>\n",
       "      <td>21.510304</td>\n",
       "      <td>7.992155</td>\n",
       "      <td>2</td>\n",
       "      <td>1</td>\n",
       "      <td>3.0</td>\n",
       "      <td>0.794112</td>\n",
       "      <td>CORRECT</td>\n",
       "      <td>1</td>\n",
       "      <td>5</td>\n",
       "      <td>2.002203</td>\n",
       "      <td>2.994992</td>\n",
       "      <td>21.510304</td>\n",
       "    </tr>\n",
       "    <tr>\n",
       "      <td>3</td>\n",
       "      <td>31.504635</td>\n",
       "      <td>8.008700</td>\n",
       "      <td>5</td>\n",
       "      <td>3</td>\n",
       "      <td>3.0</td>\n",
       "      <td>1.424500</td>\n",
       "      <td>INCORRECT</td>\n",
       "      <td>2</td>\n",
       "      <td>5</td>\n",
       "      <td>2.002125</td>\n",
       "      <td>2.994979</td>\n",
       "      <td>31.504635</td>\n",
       "    </tr>\n",
       "    <tr>\n",
       "      <td>4</td>\n",
       "      <td>43.517651</td>\n",
       "      <td>9.497940</td>\n",
       "      <td>3</td>\n",
       "      <td>1</td>\n",
       "      <td>4.5</td>\n",
       "      <td>0.594699</td>\n",
       "      <td>CORRECT</td>\n",
       "      <td>1</td>\n",
       "      <td>5</td>\n",
       "      <td>2.002179</td>\n",
       "      <td>2.995032</td>\n",
       "      <td>43.517651</td>\n",
       "    </tr>\n",
       "  </tbody>\n",
       "</table>\n",
       "</div>"
      ],
      "text/plain": [
       "       onset  duration  trial_type  Load  Delay  ReactionTime  \\\n",
       "0   0.032381  9.481434           6     3    4.5      1.094036   \n",
       "1  11.515977  7.992216           8     5    3.0      0.778527   \n",
       "2  21.510304  7.992155           2     1    3.0      0.794112   \n",
       "3  31.504635  8.008700           5     3    3.0      1.424500   \n",
       "4  43.517651  9.497940           3     1    4.5      0.594699   \n",
       "\n",
       "  ResponseAccuracy  ExpectedResponse  ButtonPressCode  PresentationInterval  \\\n",
       "0          CORRECT                 2               28              1.985665   \n",
       "1        INCORRECT                 1               28              2.002147   \n",
       "2          CORRECT                 1                5              2.002203   \n",
       "3        INCORRECT                 2                5              2.002125   \n",
       "4          CORRECT                 1                5              2.002179   \n",
       "\n",
       "   ResponseInterval  onset_noTriggerAdjust  \n",
       "0          2.995012               0.032381  \n",
       "1          2.995060              11.515977  \n",
       "2          2.994992              21.510304  \n",
       "3          2.994979              31.504635  \n",
       "4          2.995032              43.517651  "
      ]
     },
     "execution_count": 303,
     "metadata": {},
     "output_type": "execute_result"
    }
   ],
   "source": [
    "scap_bi = pd.read_csv(\"/Users/sarahting/desktop/sub-60005_func_sub-60005_task-scap_events.tsv\",sep='\\t')\n",
    "scap_bi.head()"
   ]
  },
  {
   "cell_type": "code",
   "execution_count": 304,
   "metadata": {},
   "outputs": [
    {
     "data": {
      "text/plain": [
       "onset                    38\n",
       "duration                 38\n",
       "trial_type               38\n",
       "Load                     38\n",
       "Delay                    38\n",
       "ReactionTime             38\n",
       "ResponseAccuracy         38\n",
       "ExpectedResponse         38\n",
       "ButtonPressCode          38\n",
       "PresentationInterval     38\n",
       "ResponseInterval         38\n",
       "onset_noTriggerAdjust    38\n",
       "dtype: int64"
      ]
     },
     "execution_count": 304,
     "metadata": {},
     "output_type": "execute_result"
    }
   ],
   "source": [
    "scap_bi[scap_bi['ResponseAccuracy']=='CORRECT'].count()"
   ]
  },
  {
   "cell_type": "code",
   "execution_count": 305,
   "metadata": {},
   "outputs": [
    {
     "data": {
      "text/plain": [
       "onset                    48\n",
       "duration                 48\n",
       "trial_type               48\n",
       "Load                     48\n",
       "Delay                    48\n",
       "ReactionTime             48\n",
       "ResponseAccuracy         48\n",
       "ExpectedResponse         48\n",
       "ButtonPressCode          48\n",
       "PresentationInterval     48\n",
       "ResponseInterval         48\n",
       "onset_noTriggerAdjust    48\n",
       "dtype: int64"
      ]
     },
     "execution_count": 305,
     "metadata": {},
     "output_type": "execute_result"
    }
   ],
   "source": [
    "scap_bi.count()"
   ]
  },
  {
   "cell_type": "code",
   "execution_count": 318,
   "metadata": {},
   "outputs": [
    {
     "data": {
      "text/plain": [
       "0.79"
      ]
     },
     "execution_count": 318,
     "metadata": {},
     "output_type": "execute_result"
    }
   ],
   "source": [
    "score = 38/48\n",
    "round(score,2)"
   ]
  },
  {
   "cell_type": "markdown",
   "metadata": {},
   "source": [
    "## Schizo SCAP Scores"
   ]
  },
  {
   "cell_type": "code",
   "execution_count": 388,
   "metadata": {},
   "outputs": [],
   "source": [
    "import os\n",
    "path = '/Users/sarahting/desktop/scap/Schiz/'\n",
    "filenames = [path + filename for filename in os.listdir(path)]"
   ]
  },
  {
   "cell_type": "code",
   "execution_count": 389,
   "metadata": {},
   "outputs": [],
   "source": [
    "def scap_score(filepath):\n",
    "    scap = pd.read_csv(filepath,sep='\\t')\n",
    "    no_correct = scap[scap['ResponseAccuracy']=='CORRECT'].count()[0]\n",
    "    total_trials = scap.count()[0] \n",
    "    score = no_correct / total_trials\n",
    "    return round(score,2)"
   ]
  },
  {
   "cell_type": "code",
   "execution_count": 403,
   "metadata": {},
   "outputs": [],
   "source": [
    "#Storing Schiz SCAP Scores\n",
    "scap_schiz_scores = []\n",
    "for filepath in filenames:\n",
    "    if filepath.endswith('.tsv'):\n",
    "        scap_schiz_scores.append(scap_score(filepath))\n",
    "#scap_schiz_scores"
   ]
  },
  {
   "cell_type": "markdown",
   "metadata": {},
   "source": [
    "## Bipolar SCAP Scores"
   ]
  },
  {
   "cell_type": "code",
   "execution_count": 392,
   "metadata": {},
   "outputs": [],
   "source": [
    "import os\n",
    "path = '/Users/sarahting/desktop/scap/Bipolar/'\n",
    "filenames = [path + filename for filename in os.listdir(path)]"
   ]
  },
  {
   "cell_type": "code",
   "execution_count": 393,
   "metadata": {},
   "outputs": [],
   "source": [
    "def scap_score(filepath):\n",
    "    scap = pd.read_csv(filepath,sep='\\t')\n",
    "    no_correct = scap[scap['ResponseAccuracy']=='CORRECT'].count()[0]\n",
    "    total_trials = scap.count()[0] \n",
    "    score = no_correct / total_trials\n",
    "    return round(score,2)"
   ]
  },
  {
   "cell_type": "code",
   "execution_count": 411,
   "metadata": {},
   "outputs": [
    {
     "data": {
      "text/plain": [
       "47"
      ]
     },
     "execution_count": 411,
     "metadata": {},
     "output_type": "execute_result"
    }
   ],
   "source": [
    "#Storing Schiz SCAP Scores\n",
    "scap_bip_scores = []\n",
    "for filepath in filenames:\n",
    "    if filepath.endswith('.tsv'):\n",
    "        scap_bip_scores.append(scap_score(filepath))\n",
    "len(scap_bip_scores)"
   ]
  },
  {
   "cell_type": "markdown",
   "metadata": {},
   "source": [
    "## Explore Scores"
   ]
  },
  {
   "cell_type": "code",
   "execution_count": 395,
   "metadata": {},
   "outputs": [],
   "source": [
    "scap_df = pd.DataFrame(data=[scap_bip_scores,scap_schiz_scores])\n",
    "scap_df = scap_df.T\n",
    "scap_df.columns = ['Bipolar','Schiz']"
   ]
  },
  {
   "cell_type": "code",
   "execution_count": 397,
   "metadata": {},
   "outputs": [
    {
     "data": {
      "text/plain": [
       "Bipolar    0.818085\n",
       "Schiz      0.723265\n",
       "dtype: float64"
      ]
     },
     "execution_count": 397,
     "metadata": {},
     "output_type": "execute_result"
    }
   ],
   "source": [
    "scap_df.mean()"
   ]
  },
  {
   "cell_type": "code",
   "execution_count": 417,
   "metadata": {},
   "outputs": [],
   "source": [
    "#scap_df.isna()"
   ]
  },
  {
   "cell_type": "code",
   "execution_count": 410,
   "metadata": {},
   "outputs": [
    {
     "data": {
      "text/plain": [
       "nan"
      ]
     },
     "execution_count": 410,
     "metadata": {},
     "output_type": "execute_result"
    }
   ],
   "source": [
    "scap_df['Bipolar'][47]"
   ]
  },
  {
   "cell_type": "code",
   "execution_count": 399,
   "metadata": {},
   "outputs": [
    {
     "data": {
      "image/png": "[encoded data removed]",
      "text/plain": [
       "<Figure size 432x288 with 1 Axes>"
      ]
     },
     "metadata": {
      "needs_background": "light"
     },
     "output_type": "display_data"
    }
   ],
   "source": [
    "scap_df['Bipolar'].hist();"
   ]
  },
  {
   "cell_type": "code",
   "execution_count": 401,
   "metadata": {},
   "outputs": [
    {
     "data": {
      "image/png": "[encoded data removed]",
      "text/plain": [
       "<Figure size 432x288 with 1 Axes>"
      ]
     },
     "metadata": {
      "needs_background": "light"
     },
     "output_type": "display_data"
    }
   ],
   "source": [
    "scap_df['Schiz'].hist();"
   ]
  },
  {
   "cell_type": "code",
   "execution_count": 435,
   "metadata": {},
   "outputs": [
    {
     "data": {
      "image/png": "[encoded data removed]",
      "text/plain": [
       "<Figure size 864x360 with 1 Axes>"
      ]
     },
     "metadata": {
      "needs_background": "light"
     },
     "output_type": "display_data"
    }
   ],
   "source": [
    "import seaborn as sns\n",
    "plt.figure(figsize=(12,5))\n",
    "for dataset in (scap_df['Bipolar'][:47], scap_df['Schiz']):\n",
    "    sns.distplot(dataset,label=['Bipolar','Schizo'])\n",
    "plt.title('SCAP Score Distribution for Bipolar vs. Schizo')\n",
    "plt.legend();"
   ]
  },
  {
   "cell_type": "code",
   "execution_count": null,
   "metadata": {},
   "outputs": [],
   "source": []
  }
 ],
 "metadata": {
  "kernelspec": {
   "display_name": "Python 3",
   "language": "python",
   "name": "python3"
  },
  "language_info": {
   "codemirror_mode": {
    "name": "ipython",
    "version": 3
   },
   "file_extension": ".py",
   "mimetype": "text/x-python",
   "name": "python",
   "nbconvert_exporter": "python",
   "pygments_lexer": "ipython3",
   "version": "3.7.4"
  }
 },
 "nbformat": 4,
 "nbformat_minor": 2
}
