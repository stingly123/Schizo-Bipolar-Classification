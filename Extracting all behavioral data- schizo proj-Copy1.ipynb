{
 "cells": [
  {
   "cell_type": "code",
   "execution_count": 279,
   "metadata": {},
   "outputs": [],
   "source": [
    "import pandas as pd"
   ]
  },
  {
   "cell_type": "markdown",
   "metadata": {},
   "source": [
    "# Participants"
   ]
  },
  {
   "cell_type": "code",
   "execution_count": 280,
   "metadata": {},
   "outputs": [
    {
     "name": "stdout",
     "output_type": "stream",
     "text": [
      "(142, 16)\n",
      "(130, 16)\n"
     ]
    }
   ],
   "source": [
    "#participants\n",
    "p = pd.read_csv('/Users/sarahting/desktop/UCLA Consortium/participants.tsv', sep='\\t')\n",
    "print(p[p[\"diagnosis\"]!='CONTROL'].shape) #there are 142 patients\n",
    "print(p[p[\"diagnosis\"]=='CONTROL'].shape) #130 controls"
   ]
  },
  {
   "cell_type": "code",
   "execution_count": 281,
   "metadata": {},
   "outputs": [
    {
     "data": {
      "text/html": [
       "<div>\n",
       "<style scoped>\n",
       "    .dataframe tbody tr th:only-of-type {\n",
       "        vertical-align: middle;\n",
       "    }\n",
       "\n",
       "    .dataframe tbody tr th {\n",
       "        vertical-align: top;\n",
       "    }\n",
       "\n",
       "    .dataframe thead th {\n",
       "        text-align: right;\n",
       "    }\n",
       "</style>\n",
       "<table border=\"1\" class=\"dataframe\">\n",
       "  <thead>\n",
       "    <tr style=\"text-align: right;\">\n",
       "      <th></th>\n",
       "      <th>participant_id</th>\n",
       "      <th>diagnosis</th>\n",
       "      <th>age</th>\n",
       "      <th>gender</th>\n",
       "      <th>bart</th>\n",
       "      <th>bht</th>\n",
       "      <th>dwi</th>\n",
       "      <th>pamenc</th>\n",
       "      <th>pamret</th>\n",
       "      <th>rest</th>\n",
       "      <th>scap</th>\n",
       "      <th>stopsignal</th>\n",
       "      <th>T1w</th>\n",
       "      <th>taskswitch</th>\n",
       "      <th>ScannerSerialNumber</th>\n",
       "      <th>ghost_NoGhost</th>\n",
       "    </tr>\n",
       "  </thead>\n",
       "  <tbody>\n",
       "    <tr>\n",
       "      <td>0</td>\n",
       "      <td>sub-10159</td>\n",
       "      <td>CONTROL</td>\n",
       "      <td>30</td>\n",
       "      <td>F</td>\n",
       "      <td>1.0</td>\n",
       "      <td>NaN</td>\n",
       "      <td>1.0</td>\n",
       "      <td>NaN</td>\n",
       "      <td>NaN</td>\n",
       "      <td>1.0</td>\n",
       "      <td>1.0</td>\n",
       "      <td>1.0</td>\n",
       "      <td>1.0</td>\n",
       "      <td>1.0</td>\n",
       "      <td>35343.0</td>\n",
       "      <td>No_ghost</td>\n",
       "    </tr>\n",
       "    <tr>\n",
       "      <td>1</td>\n",
       "      <td>sub-10171</td>\n",
       "      <td>CONTROL</td>\n",
       "      <td>24</td>\n",
       "      <td>M</td>\n",
       "      <td>1.0</td>\n",
       "      <td>1.0</td>\n",
       "      <td>1.0</td>\n",
       "      <td>NaN</td>\n",
       "      <td>NaN</td>\n",
       "      <td>1.0</td>\n",
       "      <td>1.0</td>\n",
       "      <td>1.0</td>\n",
       "      <td>1.0</td>\n",
       "      <td>1.0</td>\n",
       "      <td>35343.0</td>\n",
       "      <td>No_ghost</td>\n",
       "    </tr>\n",
       "    <tr>\n",
       "      <td>2</td>\n",
       "      <td>sub-10189</td>\n",
       "      <td>CONTROL</td>\n",
       "      <td>49</td>\n",
       "      <td>M</td>\n",
       "      <td>1.0</td>\n",
       "      <td>NaN</td>\n",
       "      <td>1.0</td>\n",
       "      <td>NaN</td>\n",
       "      <td>NaN</td>\n",
       "      <td>1.0</td>\n",
       "      <td>1.0</td>\n",
       "      <td>1.0</td>\n",
       "      <td>1.0</td>\n",
       "      <td>1.0</td>\n",
       "      <td>35343.0</td>\n",
       "      <td>No_ghost</td>\n",
       "    </tr>\n",
       "    <tr>\n",
       "      <td>3</td>\n",
       "      <td>sub-10193</td>\n",
       "      <td>CONTROL</td>\n",
       "      <td>40</td>\n",
       "      <td>M</td>\n",
       "      <td>1.0</td>\n",
       "      <td>NaN</td>\n",
       "      <td>1.0</td>\n",
       "      <td>NaN</td>\n",
       "      <td>NaN</td>\n",
       "      <td>NaN</td>\n",
       "      <td>NaN</td>\n",
       "      <td>NaN</td>\n",
       "      <td>1.0</td>\n",
       "      <td>NaN</td>\n",
       "      <td>35343.0</td>\n",
       "      <td>No_ghost</td>\n",
       "    </tr>\n",
       "    <tr>\n",
       "      <td>4</td>\n",
       "      <td>sub-10206</td>\n",
       "      <td>CONTROL</td>\n",
       "      <td>21</td>\n",
       "      <td>M</td>\n",
       "      <td>1.0</td>\n",
       "      <td>NaN</td>\n",
       "      <td>1.0</td>\n",
       "      <td>NaN</td>\n",
       "      <td>NaN</td>\n",
       "      <td>1.0</td>\n",
       "      <td>1.0</td>\n",
       "      <td>1.0</td>\n",
       "      <td>1.0</td>\n",
       "      <td>1.0</td>\n",
       "      <td>35343.0</td>\n",
       "      <td>No_ghost</td>\n",
       "    </tr>\n",
       "  </tbody>\n",
       "</table>\n",
       "</div>"
      ],
      "text/plain": [
       "  participant_id diagnosis  age gender  bart  bht  dwi  pamenc  pamret  rest  \\\n",
       "0      sub-10159   CONTROL   30      F   1.0  NaN  1.0     NaN     NaN   1.0   \n",
       "1      sub-10171   CONTROL   24      M   1.0  1.0  1.0     NaN     NaN   1.0   \n",
       "2      sub-10189   CONTROL   49      M   1.0  NaN  1.0     NaN     NaN   1.0   \n",
       "3      sub-10193   CONTROL   40      M   1.0  NaN  1.0     NaN     NaN   NaN   \n",
       "4      sub-10206   CONTROL   21      M   1.0  NaN  1.0     NaN     NaN   1.0   \n",
       "\n",
       "   scap  stopsignal  T1w  taskswitch  ScannerSerialNumber ghost_NoGhost  \n",
       "0   1.0         1.0  1.0         1.0              35343.0      No_ghost  \n",
       "1   1.0         1.0  1.0         1.0              35343.0      No_ghost  \n",
       "2   1.0         1.0  1.0         1.0              35343.0      No_ghost  \n",
       "3   NaN         NaN  1.0         NaN              35343.0      No_ghost  \n",
       "4   1.0         1.0  1.0         1.0              35343.0      No_ghost  "
      ]
     },
     "execution_count": 281,
     "metadata": {},
     "output_type": "execute_result"
    }
   ],
   "source": [
    "p.head()"
   ]
  },
  {
   "cell_type": "code",
   "execution_count": 46,
   "metadata": {},
   "outputs": [
    {
     "data": {
      "text/plain": [
       "130"
      ]
     },
     "execution_count": 46,
     "metadata": {},
     "output_type": "execute_result"
    }
   ],
   "source": [
    "p.shape #total 272 participants\n",
    "p[p['diagnosis']=='SCHZ'].count()[0] #50 schizophrenic patients\n",
    "p[p['diagnosis']=='BIPOLAR'].count()[0] #49 bipolar patients\n",
    "p[p['diagnosis']=='CONTROL'].count()[0] #130 controls "
   ]
  },
  {
   "cell_type": "code",
   "execution_count": 38,
   "metadata": {},
   "outputs": [
    {
     "data": {
      "text/html": [
       "<div>\n",
       "<style scoped>\n",
       "    .dataframe tbody tr th:only-of-type {\n",
       "        vertical-align: middle;\n",
       "    }\n",
       "\n",
       "    .dataframe tbody tr th {\n",
       "        vertical-align: top;\n",
       "    }\n",
       "\n",
       "    .dataframe thead th {\n",
       "        text-align: right;\n",
       "    }\n",
       "</style>\n",
       "<table border=\"1\" class=\"dataframe\">\n",
       "  <thead>\n",
       "    <tr style=\"text-align: right;\">\n",
       "      <th></th>\n",
       "      <th>participant_id</th>\n",
       "      <th>diagnosis</th>\n",
       "      <th>age</th>\n",
       "      <th>gender</th>\n",
       "      <th>bart</th>\n",
       "      <th>bht</th>\n",
       "      <th>dwi</th>\n",
       "      <th>pamenc</th>\n",
       "      <th>pamret</th>\n",
       "      <th>rest</th>\n",
       "      <th>scap</th>\n",
       "      <th>stopsignal</th>\n",
       "      <th>T1w</th>\n",
       "      <th>taskswitch</th>\n",
       "      <th>ScannerSerialNumber</th>\n",
       "      <th>ghost_NoGhost</th>\n",
       "    </tr>\n",
       "  </thead>\n",
       "  <tbody>\n",
       "    <tr>\n",
       "      <td>130</td>\n",
       "      <td>sub-50004</td>\n",
       "      <td>SCHZ</td>\n",
       "      <td>37</td>\n",
       "      <td>M</td>\n",
       "      <td>1.0</td>\n",
       "      <td>1.0</td>\n",
       "      <td>1.0</td>\n",
       "      <td>1.0</td>\n",
       "      <td>1.0</td>\n",
       "      <td>1.0</td>\n",
       "      <td>1.0</td>\n",
       "      <td>1.0</td>\n",
       "      <td>1.0</td>\n",
       "      <td>1.0</td>\n",
       "      <td>35343.0</td>\n",
       "      <td>ghost</td>\n",
       "    </tr>\n",
       "    <tr>\n",
       "      <td>131</td>\n",
       "      <td>sub-50005</td>\n",
       "      <td>SCHZ</td>\n",
       "      <td>40</td>\n",
       "      <td>M</td>\n",
       "      <td>1.0</td>\n",
       "      <td>1.0</td>\n",
       "      <td>1.0</td>\n",
       "      <td>NaN</td>\n",
       "      <td>NaN</td>\n",
       "      <td>1.0</td>\n",
       "      <td>1.0</td>\n",
       "      <td>1.0</td>\n",
       "      <td>1.0</td>\n",
       "      <td>1.0</td>\n",
       "      <td>35343.0</td>\n",
       "      <td>ghost</td>\n",
       "    </tr>\n",
       "    <tr>\n",
       "      <td>132</td>\n",
       "      <td>sub-50006</td>\n",
       "      <td>SCHZ</td>\n",
       "      <td>44</td>\n",
       "      <td>F</td>\n",
       "      <td>1.0</td>\n",
       "      <td>1.0</td>\n",
       "      <td>1.0</td>\n",
       "      <td>NaN</td>\n",
       "      <td>NaN</td>\n",
       "      <td>1.0</td>\n",
       "      <td>1.0</td>\n",
       "      <td>1.0</td>\n",
       "      <td>1.0</td>\n",
       "      <td>1.0</td>\n",
       "      <td>35343.0</td>\n",
       "      <td>No_ghost</td>\n",
       "    </tr>\n",
       "    <tr>\n",
       "      <td>133</td>\n",
       "      <td>sub-50007</td>\n",
       "      <td>SCHZ</td>\n",
       "      <td>47</td>\n",
       "      <td>F</td>\n",
       "      <td>1.0</td>\n",
       "      <td>1.0</td>\n",
       "      <td>1.0</td>\n",
       "      <td>NaN</td>\n",
       "      <td>NaN</td>\n",
       "      <td>1.0</td>\n",
       "      <td>1.0</td>\n",
       "      <td>1.0</td>\n",
       "      <td>1.0</td>\n",
       "      <td>1.0</td>\n",
       "      <td>35343.0</td>\n",
       "      <td>No_ghost</td>\n",
       "    </tr>\n",
       "    <tr>\n",
       "      <td>134</td>\n",
       "      <td>sub-50008</td>\n",
       "      <td>SCHZ</td>\n",
       "      <td>48</td>\n",
       "      <td>M</td>\n",
       "      <td>1.0</td>\n",
       "      <td>1.0</td>\n",
       "      <td>1.0</td>\n",
       "      <td>NaN</td>\n",
       "      <td>NaN</td>\n",
       "      <td>1.0</td>\n",
       "      <td>1.0</td>\n",
       "      <td>1.0</td>\n",
       "      <td>1.0</td>\n",
       "      <td>1.0</td>\n",
       "      <td>35343.0</td>\n",
       "      <td>ghost</td>\n",
       "    </tr>\n",
       "  </tbody>\n",
       "</table>\n",
       "</div>"
      ],
      "text/plain": [
       "    participant_id diagnosis  age gender  bart  bht  dwi  pamenc  pamret  \\\n",
       "130      sub-50004      SCHZ   37      M   1.0  1.0  1.0     1.0     1.0   \n",
       "131      sub-50005      SCHZ   40      M   1.0  1.0  1.0     NaN     NaN   \n",
       "132      sub-50006      SCHZ   44      F   1.0  1.0  1.0     NaN     NaN   \n",
       "133      sub-50007      SCHZ   47      F   1.0  1.0  1.0     NaN     NaN   \n",
       "134      sub-50008      SCHZ   48      M   1.0  1.0  1.0     NaN     NaN   \n",
       "\n",
       "     rest  scap  stopsignal  T1w  taskswitch  ScannerSerialNumber  \\\n",
       "130   1.0   1.0         1.0  1.0         1.0              35343.0   \n",
       "131   1.0   1.0         1.0  1.0         1.0              35343.0   \n",
       "132   1.0   1.0         1.0  1.0         1.0              35343.0   \n",
       "133   1.0   1.0         1.0  1.0         1.0              35343.0   \n",
       "134   1.0   1.0         1.0  1.0         1.0              35343.0   \n",
       "\n",
       "    ghost_NoGhost  \n",
       "130         ghost  \n",
       "131         ghost  \n",
       "132      No_ghost  \n",
       "133      No_ghost  \n",
       "134         ghost  "
      ]
     },
     "execution_count": 38,
     "metadata": {},
     "output_type": "execute_result"
    }
   ],
   "source": [
    "#Schizo Patients Data\n",
    "p[(p['diagnosis']=='SCHZ') & (p['bart']==1.0) & (p['scap']==1.0) & (p['stopsignal']==1.0) & (p['taskswitch']==1.0) & p['bht']==1.0].count()\n",
    "#there are 49 schizo participants where they have all behavioral tests.\n",
    "schiz_patients = p[(p['diagnosis']=='SCHZ') & (p['bart']==1.0) & (p['scap']==1.0) & (p['stopsignal']==1.0) & (p['taskswitch']==1.0) & p['bht']==1.0]\n",
    "#these are the schizo patients with full sets of behavioral data.\n",
    "schiz_patients.head()"
   ]
  },
  {
   "cell_type": "code",
   "execution_count": 50,
   "metadata": {},
   "outputs": [],
   "source": [
    "#list of schizo patients ID for use\n",
    "list_of_schizpatient_id = list(schiz_patients['participant_id'])\n",
    "#list_of_schizpatient_id"
   ]
  },
  {
   "cell_type": "code",
   "execution_count": 42,
   "metadata": {},
   "outputs": [
    {
     "data": {
      "text/html": [
       "<div>\n",
       "<style scoped>\n",
       "    .dataframe tbody tr th:only-of-type {\n",
       "        vertical-align: middle;\n",
       "    }\n",
       "\n",
       "    .dataframe tbody tr th {\n",
       "        vertical-align: top;\n",
       "    }\n",
       "\n",
       "    .dataframe thead th {\n",
       "        text-align: right;\n",
       "    }\n",
       "</style>\n",
       "<table border=\"1\" class=\"dataframe\">\n",
       "  <thead>\n",
       "    <tr style=\"text-align: right;\">\n",
       "      <th></th>\n",
       "      <th>participant_id</th>\n",
       "      <th>diagnosis</th>\n",
       "      <th>age</th>\n",
       "      <th>gender</th>\n",
       "      <th>bart</th>\n",
       "      <th>bht</th>\n",
       "      <th>dwi</th>\n",
       "      <th>pamenc</th>\n",
       "      <th>pamret</th>\n",
       "      <th>rest</th>\n",
       "      <th>scap</th>\n",
       "      <th>stopsignal</th>\n",
       "      <th>T1w</th>\n",
       "      <th>taskswitch</th>\n",
       "      <th>ScannerSerialNumber</th>\n",
       "      <th>ghost_NoGhost</th>\n",
       "    </tr>\n",
       "  </thead>\n",
       "  <tbody>\n",
       "    <tr>\n",
       "      <td>181</td>\n",
       "      <td>sub-60005</td>\n",
       "      <td>BIPOLAR</td>\n",
       "      <td>50</td>\n",
       "      <td>F</td>\n",
       "      <td>1.0</td>\n",
       "      <td>1.0</td>\n",
       "      <td>1.0</td>\n",
       "      <td>1.0</td>\n",
       "      <td>1.0</td>\n",
       "      <td>1.0</td>\n",
       "      <td>1.0</td>\n",
       "      <td>1.0</td>\n",
       "      <td>1.0</td>\n",
       "      <td>1.0</td>\n",
       "      <td>35343.0</td>\n",
       "      <td>No_ghost</td>\n",
       "    </tr>\n",
       "    <tr>\n",
       "      <td>182</td>\n",
       "      <td>sub-60006</td>\n",
       "      <td>BIPOLAR</td>\n",
       "      <td>22</td>\n",
       "      <td>M</td>\n",
       "      <td>1.0</td>\n",
       "      <td>1.0</td>\n",
       "      <td>1.0</td>\n",
       "      <td>NaN</td>\n",
       "      <td>NaN</td>\n",
       "      <td>1.0</td>\n",
       "      <td>1.0</td>\n",
       "      <td>1.0</td>\n",
       "      <td>1.0</td>\n",
       "      <td>1.0</td>\n",
       "      <td>35343.0</td>\n",
       "      <td>ghost</td>\n",
       "    </tr>\n",
       "    <tr>\n",
       "      <td>183</td>\n",
       "      <td>sub-60008</td>\n",
       "      <td>BIPOLAR</td>\n",
       "      <td>36</td>\n",
       "      <td>F</td>\n",
       "      <td>1.0</td>\n",
       "      <td>1.0</td>\n",
       "      <td>1.0</td>\n",
       "      <td>NaN</td>\n",
       "      <td>NaN</td>\n",
       "      <td>1.0</td>\n",
       "      <td>1.0</td>\n",
       "      <td>1.0</td>\n",
       "      <td>1.0</td>\n",
       "      <td>1.0</td>\n",
       "      <td>35343.0</td>\n",
       "      <td>No_ghost</td>\n",
       "    </tr>\n",
       "    <tr>\n",
       "      <td>184</td>\n",
       "      <td>sub-60010</td>\n",
       "      <td>BIPOLAR</td>\n",
       "      <td>40</td>\n",
       "      <td>M</td>\n",
       "      <td>1.0</td>\n",
       "      <td>1.0</td>\n",
       "      <td>1.0</td>\n",
       "      <td>1.0</td>\n",
       "      <td>1.0</td>\n",
       "      <td>1.0</td>\n",
       "      <td>1.0</td>\n",
       "      <td>1.0</td>\n",
       "      <td>1.0</td>\n",
       "      <td>1.0</td>\n",
       "      <td>35343.0</td>\n",
       "      <td>ghost</td>\n",
       "    </tr>\n",
       "    <tr>\n",
       "      <td>185</td>\n",
       "      <td>sub-60011</td>\n",
       "      <td>BIPOLAR</td>\n",
       "      <td>31</td>\n",
       "      <td>M</td>\n",
       "      <td>1.0</td>\n",
       "      <td>1.0</td>\n",
       "      <td>1.0</td>\n",
       "      <td>1.0</td>\n",
       "      <td>1.0</td>\n",
       "      <td>1.0</td>\n",
       "      <td>1.0</td>\n",
       "      <td>1.0</td>\n",
       "      <td>1.0</td>\n",
       "      <td>1.0</td>\n",
       "      <td>35343.0</td>\n",
       "      <td>No_ghost</td>\n",
       "    </tr>\n",
       "  </tbody>\n",
       "</table>\n",
       "</div>"
      ],
      "text/plain": [
       "    participant_id diagnosis  age gender  bart  bht  dwi  pamenc  pamret  \\\n",
       "181      sub-60005   BIPOLAR   50      F   1.0  1.0  1.0     1.0     1.0   \n",
       "182      sub-60006   BIPOLAR   22      M   1.0  1.0  1.0     NaN     NaN   \n",
       "183      sub-60008   BIPOLAR   36      F   1.0  1.0  1.0     NaN     NaN   \n",
       "184      sub-60010   BIPOLAR   40      M   1.0  1.0  1.0     1.0     1.0   \n",
       "185      sub-60011   BIPOLAR   31      M   1.0  1.0  1.0     1.0     1.0   \n",
       "\n",
       "     rest  scap  stopsignal  T1w  taskswitch  ScannerSerialNumber  \\\n",
       "181   1.0   1.0         1.0  1.0         1.0              35343.0   \n",
       "182   1.0   1.0         1.0  1.0         1.0              35343.0   \n",
       "183   1.0   1.0         1.0  1.0         1.0              35343.0   \n",
       "184   1.0   1.0         1.0  1.0         1.0              35343.0   \n",
       "185   1.0   1.0         1.0  1.0         1.0              35343.0   \n",
       "\n",
       "    ghost_NoGhost  \n",
       "181      No_ghost  \n",
       "182         ghost  \n",
       "183      No_ghost  \n",
       "184         ghost  \n",
       "185      No_ghost  "
      ]
     },
     "execution_count": 42,
     "metadata": {},
     "output_type": "execute_result"
    }
   ],
   "source": [
    "#Bipolar Patients Data\n",
    "p[(p['diagnosis']=='BIPOLAR') & (p['bart']==1.0) & (p['scap']==1.0) & (p['stopsignal']==1.0) & (p['taskswitch']==1.0) & p['bht']==1.0].count()\n",
    "#there are 47 schizo participants where they have all behavioral tests.\n",
    "bip_patients = p[(p['diagnosis']=='BIPOLAR') & (p['bart']==1.0) & (p['scap']==1.0) & (p['stopsignal']==1.0) & (p['taskswitch']==1.0) & p['bht']==1.0]\n",
    "#these are the schizo patients with full sets of behavioral data.\n",
    "bip_patients.head()"
   ]
  },
  {
   "cell_type": "code",
   "execution_count": 51,
   "metadata": {},
   "outputs": [],
   "source": [
    "#list of bipolar patients ID for use\n",
    "list_of_bippatient_id = list(bip_patients['participant_id'])\n",
    "#list_of_bippatient_id"
   ]
  },
  {
   "cell_type": "code",
   "execution_count": 25,
   "metadata": {},
   "outputs": [
    {
     "data": {
      "text/html": [
       "<div>\n",
       "<style scoped>\n",
       "    .dataframe tbody tr th:only-of-type {\n",
       "        vertical-align: middle;\n",
       "    }\n",
       "\n",
       "    .dataframe tbody tr th {\n",
       "        vertical-align: top;\n",
       "    }\n",
       "\n",
       "    .dataframe thead th {\n",
       "        text-align: right;\n",
       "    }\n",
       "</style>\n",
       "<table border=\"1\" class=\"dataframe\">\n",
       "  <thead>\n",
       "    <tr style=\"text-align: right;\">\n",
       "      <th></th>\n",
       "      <th>participant_id</th>\n",
       "      <th>diagnosis</th>\n",
       "      <th>age</th>\n",
       "      <th>gender</th>\n",
       "      <th>bart</th>\n",
       "      <th>bht</th>\n",
       "      <th>dwi</th>\n",
       "      <th>pamenc</th>\n",
       "      <th>pamret</th>\n",
       "      <th>rest</th>\n",
       "      <th>scap</th>\n",
       "      <th>stopsignal</th>\n",
       "      <th>T1w</th>\n",
       "      <th>taskswitch</th>\n",
       "      <th>ScannerSerialNumber</th>\n",
       "      <th>ghost_NoGhost</th>\n",
       "    </tr>\n",
       "  </thead>\n",
       "  <tbody>\n",
       "    <tr>\n",
       "      <td>1</td>\n",
       "      <td>sub-10171</td>\n",
       "      <td>CONTROL</td>\n",
       "      <td>24</td>\n",
       "      <td>M</td>\n",
       "      <td>1.0</td>\n",
       "      <td>1.0</td>\n",
       "      <td>1.0</td>\n",
       "      <td>NaN</td>\n",
       "      <td>NaN</td>\n",
       "      <td>1.0</td>\n",
       "      <td>1.0</td>\n",
       "      <td>1.0</td>\n",
       "      <td>1.0</td>\n",
       "      <td>1.0</td>\n",
       "      <td>35343.0</td>\n",
       "      <td>No_ghost</td>\n",
       "    </tr>\n",
       "    <tr>\n",
       "      <td>6</td>\n",
       "      <td>sub-10225</td>\n",
       "      <td>CONTROL</td>\n",
       "      <td>35</td>\n",
       "      <td>M</td>\n",
       "      <td>1.0</td>\n",
       "      <td>1.0</td>\n",
       "      <td>1.0</td>\n",
       "      <td>NaN</td>\n",
       "      <td>NaN</td>\n",
       "      <td>1.0</td>\n",
       "      <td>1.0</td>\n",
       "      <td>1.0</td>\n",
       "      <td>1.0</td>\n",
       "      <td>1.0</td>\n",
       "      <td>35343.0</td>\n",
       "      <td>No_ghost</td>\n",
       "    </tr>\n",
       "    <tr>\n",
       "      <td>8</td>\n",
       "      <td>sub-10228</td>\n",
       "      <td>CONTROL</td>\n",
       "      <td>40</td>\n",
       "      <td>F</td>\n",
       "      <td>1.0</td>\n",
       "      <td>1.0</td>\n",
       "      <td>1.0</td>\n",
       "      <td>NaN</td>\n",
       "      <td>NaN</td>\n",
       "      <td>1.0</td>\n",
       "      <td>1.0</td>\n",
       "      <td>1.0</td>\n",
       "      <td>1.0</td>\n",
       "      <td>1.0</td>\n",
       "      <td>35343.0</td>\n",
       "      <td>No_ghost</td>\n",
       "    </tr>\n",
       "    <tr>\n",
       "      <td>10</td>\n",
       "      <td>sub-10249</td>\n",
       "      <td>CONTROL</td>\n",
       "      <td>28</td>\n",
       "      <td>M</td>\n",
       "      <td>1.0</td>\n",
       "      <td>1.0</td>\n",
       "      <td>1.0</td>\n",
       "      <td>NaN</td>\n",
       "      <td>NaN</td>\n",
       "      <td>1.0</td>\n",
       "      <td>1.0</td>\n",
       "      <td>1.0</td>\n",
       "      <td>1.0</td>\n",
       "      <td>1.0</td>\n",
       "      <td>35343.0</td>\n",
       "      <td>No_ghost</td>\n",
       "    </tr>\n",
       "    <tr>\n",
       "      <td>12</td>\n",
       "      <td>sub-10271</td>\n",
       "      <td>CONTROL</td>\n",
       "      <td>41</td>\n",
       "      <td>F</td>\n",
       "      <td>1.0</td>\n",
       "      <td>1.0</td>\n",
       "      <td>1.0</td>\n",
       "      <td>NaN</td>\n",
       "      <td>NaN</td>\n",
       "      <td>1.0</td>\n",
       "      <td>1.0</td>\n",
       "      <td>1.0</td>\n",
       "      <td>1.0</td>\n",
       "      <td>1.0</td>\n",
       "      <td>35343.0</td>\n",
       "      <td>No_ghost</td>\n",
       "    </tr>\n",
       "  </tbody>\n",
       "</table>\n",
       "</div>"
      ],
      "text/plain": [
       "   participant_id diagnosis  age gender  bart  bht  dwi  pamenc  pamret  rest  \\\n",
       "1       sub-10171   CONTROL   24      M   1.0  1.0  1.0     NaN     NaN   1.0   \n",
       "6       sub-10225   CONTROL   35      M   1.0  1.0  1.0     NaN     NaN   1.0   \n",
       "8       sub-10228   CONTROL   40      F   1.0  1.0  1.0     NaN     NaN   1.0   \n",
       "10      sub-10249   CONTROL   28      M   1.0  1.0  1.0     NaN     NaN   1.0   \n",
       "12      sub-10271   CONTROL   41      F   1.0  1.0  1.0     NaN     NaN   1.0   \n",
       "\n",
       "    scap  stopsignal  T1w  taskswitch  ScannerSerialNumber ghost_NoGhost  \n",
       "1    1.0         1.0  1.0         1.0              35343.0      No_ghost  \n",
       "6    1.0         1.0  1.0         1.0              35343.0      No_ghost  \n",
       "8    1.0         1.0  1.0         1.0              35343.0      No_ghost  \n",
       "10   1.0         1.0  1.0         1.0              35343.0      No_ghost  \n",
       "12   1.0         1.0  1.0         1.0              35343.0      No_ghost  "
      ]
     },
     "execution_count": 25,
     "metadata": {},
     "output_type": "execute_result"
    }
   ],
   "source": [
    "#Controls Data\n",
    "p[(p['diagnosis']=='CONTROL') & (p['bart']==1.0) & (p['scap']==1.0) & (p['stopsignal']==1.0) & (p['taskswitch']==1.0) & p['bht']==1.0].count()\n",
    "#there are 111 controls where they have all behavioral tests\n",
    "controls = p[(p['diagnosis']=='CONTROL') & (p['bart']==1.0) & (p['scap']==1.0) & (p['stopsignal']==1.0) & (p['taskswitch']==1.0) & p['bht']==1.0]\n",
    "#these are the controls with the full sets of behavioral data\n",
    "controls.head()"
   ]
  },
  {
   "cell_type": "code",
   "execution_count": 47,
   "metadata": {},
   "outputs": [],
   "source": [
    "#list of controls ID for use\n",
    "list_of_controls_id = list(controls['participant_id'])\n",
    "#list_of_controls_id"
   ]
  },
  {
   "cell_type": "markdown",
   "metadata": {},
   "source": [
    "# BART Data "
   ]
  },
  {
   "cell_type": "markdown",
   "metadata": {},
   "source": [
    "## BartScore Function"
   ]
  },
  {
   "cell_type": "code",
   "execution_count": 54,
   "metadata": {},
   "outputs": [],
   "source": [
    "def bart_score(bart):\n",
    "    unexploded_trial_no = bart[(bart['trial_type']=='BALOON') & (bart['action']=='CASHOUT')]['trial_number']\n",
    "    unexploded_trials = bart[(bart['trial_type']=='BALOON') & (bart.trial_number.isin(list(unexploded_trial_no)))]\n",
    "    total_pumps = unexploded_trials[unexploded_trials['action']!='CASHOUT'].count()\n",
    "    score = total_pumps[0]/unexploded_trial_no.count()\n",
    "    return round(score,2)"
   ]
  },
  {
   "cell_type": "markdown",
   "metadata": {},
   "source": [
    "## Bipolar Bart Scores"
   ]
  },
  {
   "cell_type": "code",
   "execution_count": 230,
   "metadata": {},
   "outputs": [],
   "source": [
    "import os\n",
    "path = '/Users/sarahting/desktop/bart/Bipolar/'\n",
    "filenames = [path + filename for filename in os.listdir(path)]"
   ]
  },
  {
   "cell_type": "code",
   "execution_count": 231,
   "metadata": {},
   "outputs": [],
   "source": [
    "def bart_score(filepath):\n",
    "    bart = pd.read_csv(filepath,sep='\\t')\n",
    "    unexploded_trial_no = bart[(bart['trial_type']=='BALOON') & (bart['action']=='CASHOUT')]['trial_number']\n",
    "    unexploded_trials = bart[(bart['trial_type']=='BALOON') & (bart.trial_number.isin(list(unexploded_trial_no)))]\n",
    "    total_pumps = unexploded_trials[unexploded_trials['action']!='CASHOUT'].count()\n",
    "    score = total_pumps[0]/unexploded_trial_no.count()\n",
    "    return round(score,2)"
   ]
  },
  {
   "cell_type": "markdown",
   "metadata": {},
   "source": [
    "reason why I have to use endswith('.tsv')\n",
    "bart_score('/Users/sarahting/desktop/bart/Test/.DS_Store') doesn't read"
   ]
  },
  {
   "cell_type": "code",
   "execution_count": 237,
   "metadata": {},
   "outputs": [],
   "source": [
    "#Storing Bipolar Bart Scores\n",
    "bart_bp_scores = []\n",
    "for filepath in filenames:\n",
    "    if filepath.endswith('.tsv'):\n",
    "        bart_bp_scores.append(bart_score(filepath))"
   ]
  },
  {
   "cell_type": "markdown",
   "metadata": {},
   "source": [
    "## Schizp Bart Scores"
   ]
  },
  {
   "cell_type": "code",
   "execution_count": 238,
   "metadata": {},
   "outputs": [],
   "source": [
    "import os\n",
    "path = '/Users/sarahting/desktop/bart/SCHIZ/'\n",
    "filenames = [path + filename for filename in os.listdir(path)]"
   ]
  },
  {
   "cell_type": "code",
   "execution_count": 239,
   "metadata": {},
   "outputs": [],
   "source": [
    "def bart_score(filepath):\n",
    "    bart = pd.read_csv(filepath,sep='\\t')\n",
    "    unexploded_trial_no = bart[(bart['trial_type']=='BALOON') & (bart['action']=='CASHOUT')]['trial_number']\n",
    "    unexploded_trials = bart[(bart['trial_type']=='BALOON') & (bart.trial_number.isin(list(unexploded_trial_no)))]\n",
    "    total_pumps = unexploded_trials[unexploded_trials['action']!='CASHOUT'].count()\n",
    "    score = total_pumps[0]/unexploded_trial_no.count()\n",
    "    return round(score,2)"
   ]
  },
  {
   "cell_type": "code",
   "execution_count": 242,
   "metadata": {},
   "outputs": [
    {
     "name": "stderr",
     "output_type": "stream",
     "text": [
      "/Users/sarahting/opt/anaconda3/lib/python3.7/site-packages/ipykernel_launcher.py:6: RuntimeWarning: invalid value encountered in long_scalars\n",
      "  \n"
     ]
    }
   ],
   "source": [
    "#Storing Schizo Bart Scores\n",
    "bart_schiz_scores = []\n",
    "for filepath in filenames:\n",
    "    if filepath.endswith('.tsv'):\n",
    "        bart_schiz_scores.append(bart_score(filepath))"
   ]
  },
  {
   "cell_type": "markdown",
   "metadata": {},
   "source": [
    "## Control Bart Scores"
   ]
  },
  {
   "cell_type": "code",
   "execution_count": 243,
   "metadata": {},
   "outputs": [],
   "source": [
    "import os\n",
    "path = '/Users/sarahting/desktop/bart/Control/'\n",
    "filenames = [path + filename for filename in os.listdir(path)]"
   ]
  },
  {
   "cell_type": "code",
   "execution_count": 244,
   "metadata": {},
   "outputs": [],
   "source": [
    "def bart_score(filepath):\n",
    "    bart = pd.read_csv(filepath,sep='\\t')\n",
    "    unexploded_trial_no = bart[(bart['trial_type']=='BALOON') & (bart['action']=='CASHOUT')]['trial_number']\n",
    "    unexploded_trials = bart[(bart['trial_type']=='BALOON') & (bart.trial_number.isin(list(unexploded_trial_no)))]\n",
    "    total_pumps = unexploded_trials[unexploded_trials['action']!='CASHOUT'].count()\n",
    "    score = total_pumps[0]/unexploded_trial_no.count()\n",
    "    return round(score,2)"
   ]
  },
  {
   "cell_type": "code",
   "execution_count": 245,
   "metadata": {},
   "outputs": [],
   "source": [
    "#Storing Control Bart Scores\n",
    "bart_con_scores = []\n",
    "for filepath in filenames:\n",
    "    if filepath.endswith('.tsv'):\n",
    "        bart_con_scores.append(bart_score(filepath))"
   ]
  },
  {
   "cell_type": "markdown",
   "metadata": {},
   "source": [
    "## Putting bart scores into dataframe and explore"
   ]
  },
  {
   "cell_type": "code",
   "execution_count": 269,
   "metadata": {},
   "outputs": [],
   "source": [
    "bart_df = pd.DataFrame(data=[bart_bp_scores,bart_schiz_scores,bart_con_scores])\n",
    "bart_df = bart_df.T\n",
    "bart_df.columns = ['Bipolar','Schiz','Control']"
   ]
  },
  {
   "cell_type": "code",
   "execution_count": 268,
   "metadata": {},
   "outputs": [
    {
     "data": {
      "text/plain": [
       "Bipolar    4.286809\n",
       "Schiz      3.512500\n",
       "Control    4.498600\n",
       "dtype: float64"
      ]
     },
     "execution_count": 268,
     "metadata": {},
     "output_type": "execute_result"
    }
   ],
   "source": [
    "bart_df.mean()"
   ]
  },
  {
   "cell_type": "code",
   "execution_count": null,
   "metadata": {},
   "outputs": [],
   "source": []
  },
  {
   "cell_type": "code",
   "execution_count": 251,
   "metadata": {},
   "outputs": [],
   "source": [
    "import matplotlib.pyplot as plt\n",
    "%matplotlib inline\n",
    "import seaborn as sns"
   ]
  },
  {
   "cell_type": "code",
   "execution_count": 272,
   "metadata": {},
   "outputs": [
    {
     "data": {
      "image/png": "[encoded data removed]",
      "text/plain": [
       "<Figure size 432x288 with 1 Axes>"
      ]
     },
     "metadata": {
      "needs_background": "light"
     },
     "output_type": "display_data"
    }
   ],
   "source": [
    "bart_df['Bipolar'].hist();"
   ]
  },
  {
   "cell_type": "code",
   "execution_count": 275,
   "metadata": {},
   "outputs": [
    {
     "data": {
      "image/png": "[encoded data removed]",
      "text/plain": [
       "<Figure size 432x288 with 1 Axes>"
      ]
     },
     "metadata": {
      "needs_background": "light"
     },
     "output_type": "display_data"
    }
   ],
   "source": [
    "bart_df['Schiz'].hist();"
   ]
  },
  {
   "cell_type": "code",
   "execution_count": 278,
   "metadata": {},
   "outputs": [
    {
     "data": {
      "image/png": "[encoded data removed]",
      "text/plain": [
       "<Figure size 432x288 with 1 Axes>"
      ]
     },
     "metadata": {
      "needs_background": "light"
     },
     "output_type": "display_data"
    }
   ],
   "source": [
    "bart_df['Control'].hist();"
   ]
  },
  {
   "cell_type": "code",
   "execution_count": null,
   "metadata": {},
   "outputs": [],
   "source": []
  },
  {
   "cell_type": "markdown",
   "metadata": {},
   "source": [
    "# Scap Data"
   ]
  },
  {
   "cell_type": "code",
   "execution_count": null,
   "metadata": {},
   "outputs": [],
   "source": []
  }
 ],
 "metadata": {
  "kernelspec": {
   "display_name": "Python 3",
   "language": "python",
   "name": "python3"
  },
  "language_info": {
   "codemirror_mode": {
    "name": "ipython",
    "version": 3
   },
   "file_extension": ".py",
   "mimetype": "text/x-python",
   "name": "python",
   "nbconvert_exporter": "python",
   "pygments_lexer": "ipython3",
   "version": "3.7.4"
  }
 },
 "nbformat": 4,
 "nbformat_minor": 2
}
